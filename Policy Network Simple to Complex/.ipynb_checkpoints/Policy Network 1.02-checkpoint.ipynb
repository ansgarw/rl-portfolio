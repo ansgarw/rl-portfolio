{
 "cells": [
  {
   "cell_type": "markdown",
   "metadata": {},
   "source": [
    "## Multi-Step dynamic Merton\n",
    "Based on the Policy network setting shown in 1.01, we proceed to introduce multiple-steps model, update and input our step wealth to make decision for the next step."
   ]
  },
  {
   "cell_type": "code",
   "execution_count": 1,
   "metadata": {},
   "outputs": [],
   "source": [
    "import random\n",
    "import numpy as np\n",
    "import matplotlib.pyplot as plt\n",
    "from tqdm import tqdm_notebook as tqdm"
   ]
  },
  {
   "cell_type": "markdown",
   "metadata": {},
   "source": [
    "#### No change in the NN "
   ]
  },
  {
   "cell_type": "code",
   "execution_count": 2,
   "metadata": {},
   "outputs": [],
   "source": [
    "class NN():\n",
    "    def __init__(self, Activation = 'Sigmoid', layers = [20, 10]):\n",
    "        self._Activation_Method = Activation\n",
    "        self._Weights = None\n",
    "        self._Weight_Shape = layers\n",
    "        \n",
    "    def fit(self, X, Y, Loss, learn_rate = 0.001, Epoch = 50, **kwarg):\n",
    "        if isinstance(X, list):\n",
    "            Input_shape = len(X[0])\n",
    "            X = np.array(X)\n",
    "        elif isinstance(X, np.ndarray):\n",
    "            Input_shape = X.shape[1]\n",
    "        if isinstance(Y, list):\n",
    "            Y = np.array(Y).reshape(-1,1)\n",
    "            \n",
    "        if self._Weights is None:\n",
    "            ##Create the weights by initialising them as random values\n",
    "            previous = Input_shape\n",
    "            for Layer_Size in self._Weight_Shape:\n",
    "                if self._Weights is None:\n",
    "                    self._Weights = [np.random.rand(previous, Layer_Size)/((previous + Layer_Size)**0.5)]\n",
    "                else:\n",
    "                    Current_Layer = np.random.rand(previous, Layer_Size)/((previous + Layer_Size)**0.5)\n",
    "                    self._Weights.append(Current_Layer)\n",
    "                previous = Layer_Size\n",
    "        else:\n",
    "            pass\n",
    "        \n",
    "        for i in range(Epoch):\n",
    "            ##Forward Propogation and record useful informations\n",
    "            H_Collect = [X]\n",
    "            A_Collect = []\n",
    "            Derivative_Collect = []\n",
    "            for idx, Weights in enumerate(self._Weights):\n",
    "                if idx != len(self._Weights)-1:\n",
    "                    Layer_Active = self._Activation_Method\n",
    "                else:\n",
    "                    Layer_Active = 'Identity'\n",
    "\n",
    "                A = np.matmul(H_Collect[idx], Weights)\n",
    "                H, derivative = self._Activation(A, how = Layer_Active)\n",
    "                H_Collect.append(H)\n",
    "                A_Collect.append(A)\n",
    "                Derivative_Collect.append(derivative)\n",
    "\n",
    "            ##Backward Propogation to calculate updated weights\n",
    "            dW_Collect = []\n",
    "            dA_Collect = []\n",
    "            dH_Collect = []\n",
    "            for idx, Hidden in enumerate(H_Collect[::-1]):\n",
    "                if idx==0:\n",
    "                    D_Yhat = self._Loss_Transform(Method = Loss, Y=Y, Y_hat= Hidden, **kwarg)\n",
    "                    dH_Collect.append(D_Yhat)\n",
    "                    continue\n",
    "                else:\n",
    "                    dA = dH_Collect[-1] * Derivative_Collect[::-1][idx-1]\n",
    "                    dW = np.matmul(Hidden.transpose(), dA)\n",
    "                    dH = np.matmul(dA, self._Weights[::-1][idx-1].transpose())\n",
    "                    dA_Collect.append(dA)\n",
    "                    dW_Collect.append(dW)\n",
    "                    dH_Collect.append(dH)\n",
    "\n",
    "            for i in range(len(self._Weights)):\n",
    "                self._Weights[i] -= learn_rate * dW_Collect[::-1][i]\n",
    "        \n",
    "    def predict(self, X):\n",
    "        if self._Weights is None:\n",
    "            print('Please fit your model before you use them to predict')\n",
    "        else:\n",
    "            Predictions = X\n",
    "            for idx, Weights in enumerate(self._Weights):\n",
    "                if idx != len(self._Weights) - 1:\n",
    "                    Layer_Active = self._Activation_Method\n",
    "                else:\n",
    "                    Layer_Active = 'Identity'\n",
    "                Predictions = np.matmul(Predictions, Weights)\n",
    "                Predictions, _ = self._Activation(Predictions, how = Layer_Active)\n",
    "        return Predictions\n",
    "    \n",
    "    def _Activation(self,x, how):\n",
    "        if how == 'Sigmoid':\n",
    "            outcome = np.exp(x)/(1 + np.exp(x))\n",
    "            derivative = outcome*(1-outcome)\n",
    "        elif how == 'Relu':\n",
    "            outcome = x*(x>0)\n",
    "            derivative = np.sign(outcome) \n",
    "        elif how == 'Identity':\n",
    "            outcome = x\n",
    "            derivative = 1\n",
    "        elif how == 'Tanh':\n",
    "            outcome = 2/(1+np.exp(-2*x)) - 1\n",
    "            derivative = 1- outcome**2\n",
    "        elif how == 'Softplus':\n",
    "            outcome = np.log(1+np.exp(x))\n",
    "            derivative = 1/(1+np.exp(-x))\n",
    "        return outcome, derivative\n",
    "\n",
    "    def _Loss_Transform(self, Y, Y_hat, Method, Z = None, sigma_sq = None, reward = None):\n",
    "        if Method == 'Onehot':\n",
    "            #Check Z is in correct form and prepare it for Back Prop\n",
    "            if Z is None:\n",
    "                print('For One hot loss method you need to provide Z!!')\n",
    "            elif isinstance(Z, np.ndarray) == False:\n",
    "                try:\n",
    "                    Z = np.array(Z)\n",
    "                except:\n",
    "                    print('Z is in an unaccepted form, please Check')        \n",
    "            if Z.shape[0] != Y.shape[0]:\n",
    "                Z = Z.transpose()\n",
    "            #Calculate the Last Layer Back Prop\n",
    "            Loss = np.zeros(shape = Z.shape)\n",
    "            for i in range(Z.shape[0]):\n",
    "                Loss[i, :] = Y[i] * Z[i, :]\n",
    "            Loss = 2 * (Y_hat*Z - Loss)\n",
    "        \n",
    "        if Method == 'Ordinary':\n",
    "            Loss = 2*(Y_hat - Y)\n",
    "        \n",
    "        if Method == 'Gaussian':\n",
    "            Loss = (Y_hat - Y)*reward/sigma_sq\n",
    "        \n",
    "        return Loss"
   ]
  },
  {
   "cell_type": "code",
   "execution_count": 3,
   "metadata": {},
   "outputs": [],
   "source": [
    "# Setup required for Merton Model\n",
    "# annual calibration\n",
    "mu = 0.07\n",
    "sigma = 0.16\n",
    "rf = 0.01\n",
    "\n",
    "# static one month investment\n",
    "dt      = 1/12\n",
    "horizon = 1\n",
    "n_steps = int(horizon / dt)\n",
    "\n",
    "# return generator\n",
    "def GBM_Return ():\n",
    "    # Generate returns from a log normal distribution\n",
    "    Mean = (mu - (sigma ** 2) / 2) * dt\n",
    "    Std = sigma * (dt ** 0.5)\n",
    "    Return = np.random.normal(Mean, Std, 1)[0]\n",
    "\n",
    "    return np.exp(Return)"
   ]
  },
  {
   "cell_type": "markdown",
   "metadata": {},
   "source": [
    "### Model 1 - only previous step wealth\n",
    "First model used only the previous step wealth as input. It still refit per episode, so 12 sequential observations. Starting wealth at S0 is set to be constant 1. Reward is step return and advantage is step Reward minus mean step Reward. This code takes up to a minute to run 100,000 episodes"
   ]
  },
  {
   "cell_type": "code",
   "execution_count": 4,
   "metadata": {
    "scrolled": false
   },
   "outputs": [
    {
     "data": {
      "application/vnd.jupyter.widget-view+json": {
       "model_id": "3e88c53784654caa81263f998827bca3",
       "version_major": 2,
       "version_minor": 0
      },
      "text/plain": [
       "HBox(children=(IntProgress(value=0, max=200000), HTML(value='')))"
      ]
     },
     "metadata": {},
     "output_type": "display_data"
    },
    {
     "name": "stdout",
     "output_type": "stream",
     "text": [
      "\n"
     ]
    },
    {
     "data": {
      "text/plain": [
       "<matplotlib.collections.LineCollection at 0x2c3f96c9128>"
      ]
     },
     "execution_count": 4,
     "metadata": {},
     "output_type": "execute_result"
    },
    {
     "data": {
      "image/png": "[encoded data removed]",
      "text/plain": [
       "<Figure size 432x288 with 1 Axes>"
      ]
     },
     "metadata": {
      "needs_background": "light"
     },
     "output_type": "display_data"
    }
   ],
   "source": [
    "# Policy Model Setting\n",
    "Layers = [5,5,1]\n",
    "PNetwork = NN(Activation= 'Sigmoid', layers= Layers)\n",
    "refit = 1\n",
    "\n",
    "# Episode Settings\n",
    "n_episodes    = int(2e5)\n",
    "Sigmasq_range = [2, 0.0001]\n",
    "Anneal        = n_episodes/2\n",
    "s_dim         = 1\n",
    "exp           = []\n",
    "average       = [0]*n_steps\n",
    "\n",
    "# Decision function\n",
    "def Mu(S0):\n",
    "    if PNetwork._Weights is None:\n",
    "        output = 0\n",
    "    else:\n",
    "        output = PNetwork.predict(S0)[0][0]\n",
    "    return output\n",
    "\n",
    "# Model Training\n",
    "nans = {}\n",
    "Plot_X =[]\n",
    "Plot_Y =[]\n",
    "for i in tqdm(range(n_episodes)):\n",
    "    s0 = np.ones((1,1))   # Set initial Wealth\n",
    "    if i <= Anneal:\n",
    "        Sigma_sq = Sigmasq_range[0] + i/Anneal * (Sigmasq_range[1] - Sigmasq_range[0])\n",
    "    else:\n",
    "        Sigma_sq = Sigmasq_range[1]\n",
    "             \n",
    "    if Sigma_sq > 1:\n",
    "        learn_Rate = 0.01\n",
    "    elif (Sigma_sq >0.25) and (Sigma_sq<1):\n",
    "        learn_Rate = 0.001\n",
    "    else:\n",
    "        learn_Rate = 0.0001\n",
    "        \n",
    "    # Step through to collect the (S,A,R/Adv, S') pair\n",
    "    for t in range(n_steps):\n",
    "        ep_Mu = Mu(s0)\n",
    "        leverage = np.random.normal(ep_Mu, Sigma_sq**0.5)\n",
    "        s1 = s0 * (leverage * GBM_Return() + (1 - leverage) * (1 + rf * dt))\n",
    "\n",
    "        if s1<0:\n",
    "            if round(leverage,1) not in nans:\n",
    "                nans[round(leverage,1)] = 1 # count failures of discrete time approximation for each a\n",
    "            else:\n",
    "                nans[round(leverage,1)] += 1\n",
    "            advantage = np.ones((1,1)) * (-10) # Large punishment in case of bankrupt\n",
    "            exp.append({'s0' : s0, 'a': leverage, 'r': advantage, 's1': s1})\n",
    "        \n",
    "        else:    \n",
    "            average[t] = (i*average[t] + np.log(s1/s0))/(i+1)\n",
    "            advantage = np.log(s1/s0) - average[t]\n",
    "            exp.append({'s0' : s0, 'a': leverage, 'r': advantage, 's1': s1})\n",
    "            s0 = s1\n",
    "            \n",
    "    # Refit using the most recent experiences then clear all the records\n",
    "    if len(exp)/n_steps == refit:\n",
    "        X = np.array([d['s0'] for d in exp]).reshape(-1, s_dim)\n",
    "        Y = [d['a'] for d in exp]\n",
    "        Advantage = np.array([d['r'] for d in exp]).reshape(-1,1)\n",
    "        PNetwork.fit(X, Y, Epoch =1, learn_rate = learn_Rate, Loss = 'Gaussian', sigma_sq = Sigma_sq, reward = Advantage)\n",
    "        exp = []\n",
    "\n",
    "    if (PNetwork._Weights is not None) and (i%100 == 0):\n",
    "        Plot_X.append(i)\n",
    "        Plot_Y.append(PNetwork.predict(s0))\n",
    "    \n",
    "Plot_Y = [y[0][0] for y in Plot_Y]\n",
    "plt.plot(Plot_X, Plot_Y)\n",
    "plt.hlines((mu - rf) / (sigma**2), xmin= 0, xmax= n_episodes, color = 'r')"
   ]
  },
  {
   "cell_type": "code",
   "execution_count": null,
   "metadata": {},
   "outputs": [],
   "source": []
  },
  {
   "cell_type": "markdown",
   "metadata": {},
   "source": [
    "### Model 2 - Previous wealth and time\n",
    "To see whether each step has different optimal, we added time as input for the next NN."
   ]
  },
  {
   "cell_type": "code",
   "execution_count": 5,
   "metadata": {},
   "outputs": [
    {
     "data": {
      "application/vnd.jupyter.widget-view+json": {
       "model_id": "b070209cfb19456f8010ba28a2c7791c",
       "version_major": 2,
       "version_minor": 0
      },
      "text/plain": [
       "HBox(children=(IntProgress(value=0, max=200000), HTML(value='')))"
      ]
     },
     "metadata": {},
     "output_type": "display_data"
    },
    {
     "name": "stderr",
     "output_type": "stream",
     "text": [
      "C:\\Users\\Hli\\Anaconda3\\lib\\site-packages\\ipykernel_launcher.py:82: RuntimeWarning: invalid value encountered in true_divide\n"
     ]
    },
    {
     "name": "stdout",
     "output_type": "stream",
     "text": [
      "\n"
     ]
    }
   ],
   "source": [
    "# Policy Model Setting\n",
    "Layers = [5,5,1]\n",
    "PNetwork = NN(Activation= 'Sigmoid', layers= Layers)\n",
    "refit = 1\n",
    "\n",
    "# Episode Settings\n",
    "n_episodes    = int(2e5)\n",
    "Sigmasq_range = [2, 0.01]\n",
    "Anneal        = n_episodes/2\n",
    "s_dim         = 2\n",
    "exp           = []\n",
    "average       = [0]*n_steps\n",
    "\n",
    "# Decision function\n",
    "def Mu(S0):\n",
    "    if PNetwork._Weights is None:\n",
    "        output = 0\n",
    "    else:\n",
    "        output = PNetwork.predict(S0)[0]\n",
    "    return output\n",
    "\n",
    "# Model Training\n",
    "nans = {}\n",
    "Plot_X =[]\n",
    "Plot_Y =[]\n",
    "for i in tqdm(range(n_episodes)):\n",
    "    s0 = np.ones((1,1))   # Set initial Wealth\n",
    "    if i <= Anneal:\n",
    "        Sigma_sq = Sigmasq_range[0] + i/Anneal * (Sigmasq_range[1] - Sigmasq_range[0])\n",
    "    else:\n",
    "        Sigma_sq = Sigmasq_range[1]\n",
    "             \n",
    "    if Sigma_sq > 1:\n",
    "        learn_Rate = 0.01\n",
    "    elif (Sigma_sq >0.25) and (Sigma_sq<1):\n",
    "        learn_Rate = 0.001\n",
    "    else:\n",
    "        learn_Rate = 0.0001\n",
    "        \n",
    "    # Step through to collect the (S,A,R/Adv, S') pair\n",
    "    for t in range(n_steps):\n",
    "        ep_Mu = Mu(np.append(s0, t))\n",
    "        leverage = np.random.normal(ep_Mu, Sigma_sq**0.5)\n",
    "        s1 = s0 * (leverage * GBM_Return() + (1 - leverage) * (1 + rf * dt))\n",
    "\n",
    "        if s1<0:\n",
    "            if round(leverage,1) not in nans:\n",
    "                nans[round(leverage,1)] = 1 # count failures of discrete time approximation for each a\n",
    "            else:\n",
    "                nans[round(leverage,1)] += 1\n",
    "            advantage = np.ones((1,1)) * (-20) # Large punishment in case of bankrupt\n",
    "            exp.append({'s0' : np.append(s0, t), 'a': leverage, 'r': advantage, 's1': s1})\n",
    "        \n",
    "        else:    \n",
    "            average[t] = (i*average[t] + np.log(s1/s0))/(i+1)\n",
    "            advantage = np.log(s1/s0) - average[t]\n",
    "            exp.append({'s0' : np.append(s0, t), 'a': leverage, 'r': advantage, 's1': s1})\n",
    "            s0 = s1\n",
    "            \n",
    "    # Refit using the most recent experiences then clear all the records\n",
    "    if len(exp)/n_steps == refit:\n",
    "        X = np.array([d['s0'] for d in exp]).reshape(-1, s_dim)\n",
    "        Y = [d['a'] for d in exp]\n",
    "        Advantage = np.array([d['r'] for d in exp]).reshape(-1,1)\n",
    "        PNetwork.fit(X, Y, Epoch = 1, learn_rate = learn_Rate, Loss = 'Gaussian', sigma_sq = Sigma_sq, reward = Advantage)\n",
    "        exp = []\n",
    "\n",
    "    if (PNetwork._Weights is not None) and (i%100 == 0):\n",
    "        Plot_X.append(i)\n",
    "        s0 = np.ones((1,1))\n",
    "        temp = []\n",
    "        for k in range(n_steps):\n",
    "            X = np.append(s0, k)\n",
    "            ep_Mu = Mu(X)\n",
    "            temp.append(np.append(ep_Mu, k))\n",
    "            s1 = s0 * (ep_Mu * GBM_Return() + (1 - leverage) * (1 + rf * dt))\n",
    "            s0 = s1\n",
    "        Plot_Y.append(temp)\n",
    "        "
   ]
  },
  {
   "cell_type": "markdown",
   "metadata": {},
   "source": [
    "### Result 2\n",
    "We can see clearly see all time period move exactly same direction and they differ in constant terms, somehow it is encouraged to take a bit higher leverage when approaching to the end of period"
   ]
  },
  {
   "cell_type": "code",
   "execution_count": 6,
   "metadata": {},
   "outputs": [
    {
     "data": {
      "text/plain": [
       "<matplotlib.collections.LineCollection at 0x2c3f9ca8160>"
      ]
     },
     "execution_count": 6,
     "metadata": {},
     "output_type": "execute_result"
    },
    {
     "data": {
      "image/png": "[encoded data removed]",
      "text/plain": [
       "<Figure size 432x288 with 1 Axes>"
      ]
     },
     "metadata": {
      "needs_background": "light"
     },
     "output_type": "display_data"
    }
   ],
   "source": [
    "Plot_Y = np.array(Plot_Y)\n",
    "for j in range(n_steps):\n",
    "    Plot_n = Plot_Y[:,j,0]\n",
    "    plt.plot(Plot_X, Plot_n)\n",
    "plt.legend([j for j in range(n_steps)])\n",
    "plt.hlines((mu - rf) / (sigma**2), xmin= 0, xmax= n_episodes, color = 'r')"
   ]
  },
  {
   "cell_type": "code",
   "execution_count": 7,
   "metadata": {},
   "outputs": [
    {
     "data": {
      "text/plain": [
       "array([0.17122187])"
      ]
     },
     "execution_count": 7,
     "metadata": {},
     "output_type": "execute_result"
    }
   ],
   "source": [
    "PNetwork.predict(np.append(s0, 11)) - PNetwork.predict(np.append(s0,0))"
   ]
  },
  {
   "cell_type": "code",
   "execution_count": null,
   "metadata": {},
   "outputs": [],
   "source": []
  },
  {
   "cell_type": "markdown",
   "metadata": {},
   "source": [
    "### Model 3 - Random Initial Wealth\n",
    "Now we depart from fixed s0 initial wealth to a completely random initial wealth then step through 12 periods in the same above setting. Similar to the trick we adopted in DQN before, in order for the bot to realise it's starting level we adopt a heavy first layer. We're also refitting with 10 observation per time hoping it will help the NN realise faster the importance of different starting positions. We've also trained this model over 100k episodes. "
   ]
  },
  {
   "cell_type": "code",
   "execution_count": 8,
   "metadata": {},
   "outputs": [
    {
     "data": {
      "application/vnd.jupyter.widget-view+json": {
       "model_id": "78a2b15539ef4bc29a47fc0db66fddf0",
       "version_major": 2,
       "version_minor": 0
      },
      "text/plain": [
       "HBox(children=(IntProgress(value=0, max=200000), HTML(value='')))"
      ]
     },
     "metadata": {},
     "output_type": "display_data"
    },
    {
     "name": "stderr",
     "output_type": "stream",
     "text": [
      "C:\\Users\\Hli\\Anaconda3\\lib\\site-packages\\ipykernel_launcher.py:82: RuntimeWarning: invalid value encountered in true_divide\n"
     ]
    },
    {
     "name": "stdout",
     "output_type": "stream",
     "text": [
      "\n"
     ]
    }
   ],
   "source": [
    "# Policy Network Set out\n",
    "Layers = [100, 5,5,1]\n",
    "PNetwork = NN(Activation= 'Sigmoid', layers= Layers)\n",
    "refit = 10\n",
    "\n",
    "# Episode Settings\n",
    "n_episodes    = int(2e5)\n",
    "Sigmasq_range = [2, 0.01]\n",
    "Anneal        = n_episodes/2\n",
    "s_dim         = 2\n",
    "exp           = []\n",
    "average       = [0]*n_steps\n",
    "\n",
    "# Decision Function\n",
    "def Mu(S0):\n",
    "    if PNetwork._Weights is None:\n",
    "        output = 0\n",
    "    else:\n",
    "        output = PNetwork.predict(S0)[0]\n",
    "    return output\n",
    "\n",
    "# Model Training\n",
    "nans = {}\n",
    "Plot_X =[]\n",
    "Plot_Y =[]\n",
    "for i in tqdm(range(n_episodes)):\n",
    "    s0 = np.random.uniform()*np.ones((1,1))  # Random initial Wealth\n",
    "    if i <= Anneal:\n",
    "        Sigma_sq = Sigmasq_range[0] + i/Anneal * (Sigmasq_range[1] - Sigmasq_range[0])\n",
    "    else:\n",
    "        Sigma_sq = Sigmasq_range[1]     \n",
    "        \n",
    "    if Sigma_sq > 1:\n",
    "        learn_Rate = 0.01\n",
    "    elif (Sigma_sq >0.25) and (Sigma_sq<1):\n",
    "        learn_Rate = 0.001\n",
    "    else:\n",
    "        learn_Rate = 0.0001\n",
    "        \n",
    "    # Step through to collect the (S,A,R/Adv,S') pair\n",
    "    for t in range(n_steps):\n",
    "        ep_Mu = Mu(np.append(s0, t))\n",
    "        leverage = np.random.normal(ep_Mu, Sigma_sq**0.5)\n",
    "        s1 = s0 * (leverage * GBM_Return() + (1 - leverage) * (1 + rf * dt))\n",
    "\n",
    "        if s1<0:\n",
    "            if round(leverage,1) not in nans:\n",
    "                nans[round(leverage,1)] = 1 # count failures of discrete time approximation for each a\n",
    "            else:\n",
    "                nans[round(leverage,1)] += 1\n",
    "            advantage = np.ones((1,1)) * (-100) # Large punishment in case of bankrupt\n",
    "            exp.append({'s0' : np.append(s0, t), 'a': leverage, 'r': advantage, 's1': s1})\n",
    "        \n",
    "        else:    \n",
    "            average[t] = (i*average[t] + np.log(s1/s0))/(i+1)\n",
    "            advantage = np.log(s1/s0) - average[t]\n",
    "            exp.append({'s0' : np.append(s0, t), 'a': leverage, 'r': advantage, 's1': s1})\n",
    "            s0 = s1\n",
    "            \n",
    "    # Refit using the most recent experiences then clear all the records\n",
    "    if len(exp)/n_steps == refit:\n",
    "        X = np.array([d['s0'] for d in exp]).reshape(-1, s_dim)\n",
    "        Y = [d['a'] for d in exp]\n",
    "        Advantage = np.array([d['r'] for d in exp]).reshape(-1,1)\n",
    "        PNetwork.fit(X, Y, Epoch = 1, learn_rate = learn_Rate, Loss = 'Gaussian', sigma_sq = Sigma_sq, reward = Advantage)\n",
    "        exp = []\n",
    "\n",
    "    if (PNetwork._Weights is not None) and (i%100 == 0):\n",
    "        Plot_X.append(i)\n",
    "        s0 = np.ones((1,1))\n",
    "        temp = []\n",
    "        for k in range(n_steps):\n",
    "            X = np.append(s0, k)\n",
    "            ep_Mu = Mu(X)\n",
    "            temp.append(np.append(ep_Mu, k))\n",
    "            s1 = s0 * (ep_Mu * GBM_Return() + (1 - leverage) * (1 + rf * dt))\n",
    "            s0 = s1\n",
    "        Plot_Y.append(temp)"
   ]
  },
  {
   "cell_type": "markdown",
   "metadata": {},
   "source": [
    "### Result 3\n",
    "In this case the time-increasing leverage is much less significant"
   ]
  },
  {
   "cell_type": "code",
   "execution_count": 9,
   "metadata": {},
   "outputs": [
    {
     "data": {
      "text/plain": [
       "<matplotlib.collections.LineCollection at 0x2c3fa1830f0>"
      ]
     },
     "execution_count": 9,
     "metadata": {},
     "output_type": "execute_result"
    },
    {
     "data": {
      "image/png": "[encoded data removed]",
      "text/plain": [
       "<Figure size 432x288 with 1 Axes>"
      ]
     },
     "metadata": {
      "needs_background": "light"
     },
     "output_type": "display_data"
    }
   ],
   "source": [
    "Plot_Y = np.array(Plot_Y)\n",
    "for j in range(n_steps):\n",
    "    Plot_n = Plot_Y[:,j,0]\n",
    "    plt.plot(Plot_X, Plot_n)\n",
    "plt.legend([j for j in range(n_steps)])\n",
    "plt.hlines((mu - rf) / (sigma**2), xmin= 0, xmax= n_episodes, color = 'r')"
   ]
  },
  {
   "cell_type": "code",
   "execution_count": 10,
   "metadata": {},
   "outputs": [
    {
     "data": {
      "text/plain": [
       "array([0.01743241])"
      ]
     },
     "execution_count": 10,
     "metadata": {},
     "output_type": "execute_result"
    }
   ],
   "source": [
    "PNetwork.predict(np.append(s0, 11)) - PNetwork.predict(np.append(s0,0))"
   ]
  },
  {
   "cell_type": "code",
   "execution_count": null,
   "metadata": {},
   "outputs": [],
   "source": []
  }
 ],
 "metadata": {
  "kernelspec": {
   "display_name": "Python 3",
   "language": "python",
   "name": "python3"
  },
  "language_info": {
   "codemirror_mode": {
    "name": "ipython",
    "version": 3
   },
   "file_extension": ".py",
   "mimetype": "text/x-python",
   "name": "python",
   "nbconvert_exporter": "python",
   "pygments_lexer": "ipython3",
   "version": "3.7.3"
  }
 },
 "nbformat": 4,
 "nbformat_minor": 2
}
