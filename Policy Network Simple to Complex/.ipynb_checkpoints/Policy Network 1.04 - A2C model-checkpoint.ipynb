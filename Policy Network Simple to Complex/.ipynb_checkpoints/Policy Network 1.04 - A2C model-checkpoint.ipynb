{
 "cells": [
  {
   "cell_type": "markdown",
   "metadata": {},
   "source": [
    "## Actor Critic\n",
    "Standing on the ground of 1.03 we can now develop an A2C model where one Neural network makes decision about what action to take and another give estimation about the state value for us to calculate advantage"
   ]
  },
  {
   "cell_type": "code",
   "execution_count": 1,
   "metadata": {},
   "outputs": [],
   "source": [
    "import random\n",
    "import numpy as np\n",
    "import matplotlib.pyplot as plt\n",
    "from tqdm import tqdm_notebook as tqdm"
   ]
  },
  {
   "cell_type": "code",
   "execution_count": 2,
   "metadata": {},
   "outputs": [],
   "source": [
    "class NN():\n",
    "    def __init__(self, Activation = 'Sigmoid', layers = [20, 10]):\n",
    "        self._Activation_Method = Activation\n",
    "        self._Weights = None\n",
    "        self._Weight_Shape = layers\n",
    "        \n",
    "    def fit(self, X, Y, Loss, learn_rate = 0.001, Epoch = 50, **kwarg):\n",
    "        if isinstance(X, list):\n",
    "            Input_shape = len(X[0])\n",
    "            X = np.array(X)\n",
    "        elif isinstance(X, np.ndarray):\n",
    "            Input_shape = X.shape[1]\n",
    "        if isinstance(Y, list):\n",
    "            Y = np.array(Y).reshape(-1,1)\n",
    "            \n",
    "        if self._Weights is None:\n",
    "            ##Create the weights by initialising them as random values\n",
    "            previous = Input_shape\n",
    "            for Layer_Size in self._Weight_Shape:\n",
    "                if self._Weights is None:\n",
    "                    self._Weights = [np.random.rand(previous, Layer_Size)/((previous + Layer_Size)**0.5)]\n",
    "                else:\n",
    "                    Current_Layer = np.random.rand(previous, Layer_Size)/((previous + Layer_Size)**0.5)\n",
    "                    self._Weights.append(Current_Layer)\n",
    "                previous = Layer_Size\n",
    "        else:\n",
    "            pass\n",
    "        \n",
    "        for i in range(Epoch):\n",
    "            ##Forward Propogation and record useful informations\n",
    "            H_Collect = [X]\n",
    "            A_Collect = []\n",
    "            Derivative_Collect = []\n",
    "            for idx, Weights in enumerate(self._Weights):\n",
    "                if idx != len(self._Weights)-1:\n",
    "                    Layer_Active = self._Activation_Method\n",
    "                else:\n",
    "                    Layer_Active = 'Identity'\n",
    "\n",
    "                A = np.matmul(H_Collect[idx], Weights)\n",
    "                H, derivative = self._Activation(A, how = Layer_Active)\n",
    "                H_Collect.append(H)\n",
    "                A_Collect.append(A)\n",
    "                Derivative_Collect.append(derivative)\n",
    "\n",
    "            ##Backward Propogation to calculate updated weights\n",
    "            dW_Collect = []\n",
    "            dA_Collect = []\n",
    "            dH_Collect = []\n",
    "            for idx, Hidden in enumerate(H_Collect[::-1]):\n",
    "                if idx==0:\n",
    "                    D_Yhat = self._Loss_Transform(Method = Loss, Y=Y, Y_hat= Hidden, **kwarg)\n",
    "                    dH_Collect.append(D_Yhat)\n",
    "                    continue\n",
    "                else:\n",
    "                    dA = dH_Collect[-1] * Derivative_Collect[::-1][idx-1]\n",
    "                    dW = np.matmul(Hidden.transpose(), dA)\n",
    "                    dH = np.matmul(dA, self._Weights[::-1][idx-1].transpose())\n",
    "                    dA_Collect.append(dA)\n",
    "                    dW_Collect.append(dW)\n",
    "                    dH_Collect.append(dH)\n",
    "\n",
    "            for i in range(len(self._Weights)):\n",
    "                self._Weights[i] -= learn_rate * dW_Collect[::-1][i]\n",
    "        \n",
    "    def predict(self, X):\n",
    "        if self._Weights is None:\n",
    "            print('Please fit your model before you use them to predict')\n",
    "        else:\n",
    "            Predictions = X\n",
    "            for idx, Weights in enumerate(self._Weights):\n",
    "                if idx != len(self._Weights) - 1:\n",
    "                    Layer_Active = self._Activation_Method\n",
    "                else:\n",
    "                    Layer_Active = 'Identity'\n",
    "                Predictions = np.matmul(Predictions, Weights)\n",
    "                Predictions, _ = self._Activation(Predictions, how = Layer_Active)\n",
    "        return Predictions\n",
    "    \n",
    "    def _Activation(self,x, how):\n",
    "        if how == 'Sigmoid':\n",
    "            outcome = np.exp(x)/(1 + np.exp(x))\n",
    "            derivative = outcome*(1-outcome)\n",
    "        elif how == 'Relu':\n",
    "            outcome = x*(x>0)\n",
    "            derivative = np.sign(outcome) \n",
    "        elif how == 'Identity':\n",
    "            outcome = x\n",
    "            derivative = 1\n",
    "        elif how == 'Tanh':\n",
    "            outcome = 2/(1+np.exp(-2*x)) - 1\n",
    "            derivative = 1- outcome**2\n",
    "        elif how == 'Softplus':\n",
    "            outcome = np.log(1+np.exp(x))\n",
    "            derivative = 1/(1+np.exp(-x))\n",
    "        return outcome, derivative\n",
    "\n",
    "    def _Loss_Transform(self, Y, Y_hat, Method, Z = None, sigma_sq = None, reward = None):\n",
    "        if Method == 'Onehot':\n",
    "            #Check Z is in correct form and prepare it for Back Prop\n",
    "            if Z is None:\n",
    "                print('For One hot loss method you need to provide Z!!')\n",
    "            elif isinstance(Z, np.ndarray) == False:\n",
    "                try:\n",
    "                    Z = np.array(Z)\n",
    "                except:\n",
    "                    print('Z is in an unaccepted form, please Check')        \n",
    "            if Z.shape[0] != Y.shape[0]:\n",
    "                Z = Z.transpose()\n",
    "            #Calculate the Last Layer Back Prop\n",
    "            Loss = np.zeros(shape = Z.shape)\n",
    "            for i in range(Z.shape[0]):\n",
    "                Loss[i, :] = Y[i] * Z[i, :]\n",
    "            Loss = 2 * (Y_hat*Z - Loss)\n",
    "        \n",
    "        if Method == 'Ordinary':\n",
    "            Loss = 2*(Y_hat - Y)\n",
    "        \n",
    "        if Method == 'Gaussian':\n",
    "            Loss = (Y_hat - Y)*reward/sigma_sq\n",
    "        \n",
    "        return Loss"
   ]
  },
  {
   "cell_type": "code",
   "execution_count": 3,
   "metadata": {},
   "outputs": [],
   "source": [
    "# Setup required for Merton Model\n",
    "# annual calibration\n",
    "mu = 0.05\n",
    "sigma = 0.16\n",
    "rf = 0.01\n",
    "Risk_Aversion = 0.9 #Risk Aversion\n",
    "\n",
    "# static one month investment\n",
    "dt      = 1/12\n",
    "horizon = 1\n",
    "n_steps = int(horizon / dt)\n",
    "\n",
    "# return generator\n",
    "def GBM_Return ():\n",
    "    # Generate returns from a log normal distribution\n",
    "    Mean = (mu - (sigma ** 2) / 2) * dt\n",
    "    Std = sigma * (dt ** 0.5)\n",
    "    Return = np.random.normal(Mean, Std, 1)[0]\n",
    "\n",
    "    return np.exp(Return)\n",
    "\n",
    "def Utility(Wealth, Gamma):\n",
    "    if Gamma == 1:\n",
    "        return np.log(Wealth)\n",
    "    else:\n",
    "        return (Wealth ** (1 - Gamma)) / (1 - Gamma)    \n"
   ]
  },
  {
   "cell_type": "markdown",
   "metadata": {},
   "source": [
    "## V- Network\n",
    "#### Instead of using Average discounted terminal reward as benchmark we now fit a value network and use its prediction as our benchmark"
   ]
  },
  {
   "cell_type": "code",
   "execution_count": 4,
   "metadata": {},
   "outputs": [
    {
     "data": {
      "application/vnd.jupyter.widget-view+json": {
       "model_id": "ffa3d8dc39314f62b550c7d1765cbcc9",
       "version_major": 2,
       "version_minor": 0
      },
      "text/plain": [
       "HBox(children=(IntProgress(value=0, max=100000), HTML(value='')))"
      ]
     },
     "metadata": {},
     "output_type": "display_data"
    },
    {
     "name": "stdout",
     "output_type": "stream",
     "text": [
      "\n"
     ]
    }
   ],
   "source": [
    "Layers = [5,5,1]\n",
    "PNetwork = NN(Activation= 'Sigmoid', layers= Layers)\n",
    "VNetwork = NN(Activation = 'Sigmoid', layers = Layers)\n",
    "refit = 1\n",
    "gamma = 0.99 #Discount rate\n",
    "\n",
    "# Episode Settings\n",
    "n_episodes    = int(1e5)\n",
    "Sigmasq_range = [2, 0.01]\n",
    "Anneal        = n_episodes\n",
    "s_dim         = 2\n",
    "\n",
    "# Prediction Function\n",
    "def Mu(S0):\n",
    "    if PNetwork._Weights is None:\n",
    "        output = 0\n",
    "    else:\n",
    "        output = PNetwork.predict(S0)[0]\n",
    "    return output\n",
    "\n",
    "def Value(S0):\n",
    "    if VNetwork._Weights is None:\n",
    "        output = 0\n",
    "    else:\n",
    "        output = VNetwork.predict(S0)[0]\n",
    "    return output\n",
    "\n",
    "#Start training\n",
    "exp = []\n",
    "V_exp = []\n",
    "nans = {}\n",
    "Plot_X =[]\n",
    "Plot_Y =[]\n",
    "for i in tqdm(range(n_episodes)):\n",
    "    s0 = np.ones((1,1))   # Set initial Wealth\n",
    "    if i <= Anneal:\n",
    "        Sigma_sq = Sigmasq_range[0] + i/Anneal * (Sigmasq_range[1] - Sigmasq_range[0])\n",
    "    else:\n",
    "        Sigma_sq = Sigmasq_range[1]\n",
    "    \n",
    "    if Sigma_sq > 1:\n",
    "        learn_Rate = 0.01\n",
    "    elif (Sigma_sq >0.25) and (Sigma_sq<1):\n",
    "        learn_Rate = 0.001\n",
    "    else:\n",
    "        learn_Rate = 0.0001\n",
    "        \n",
    "    Ep_Wealth = []\n",
    "    Ep_Action = []\n",
    "    Ep_Reward = []\n",
    "    # Step through to collect the (S,A,R/Adv,S') pair\n",
    "    for t in range(n_steps):\n",
    "        Step_Mu = Mu(np.append(s0, t))\n",
    "        leverage = np.random.normal(Step_Mu, Sigma_sq**0.5)\n",
    "        s1 = s0 * (leverage * GBM_Return() + (1 - leverage) * (1 + rf * dt))\n",
    "        Ep_Wealth.append(s0)\n",
    "        Ep_Action.append(leverage)\n",
    "        if s1<0:\n",
    "            if round(leverage,1) not in nans:\n",
    "                nans[round(leverage,1)] = 1 # count failures of discrete time approximation for each a\n",
    "            else:\n",
    "                nans[round(leverage,1)] += 1\n",
    "            Ep_Reward.append(np.ones((1,1)) * (-20)) # Large punishment in case of bankrupt\n",
    "\n",
    "        else:\n",
    "            s0 = s1\n",
    "            if t == n_steps-1:\n",
    "                Ep_Reward.append(Utility(s0, Risk_Aversion))\n",
    "            else:\n",
    "                Ep_Reward.append(0)\n",
    "    Ep_Wealth.append(s0)\n",
    "    \n",
    "    # Step backward to calculate discounted reward\n",
    "    for idx in range(n_steps -1)[::-1]:\n",
    "        Ep_Reward[idx] = Ep_Reward[idx + 1]*gamma + Ep_Reward[idx]\n",
    "        \n",
    "    # Step forward again to calculate advantage and record all informations\n",
    "    for t in range(n_steps):\n",
    "        state_value = Value(np.append(Ep_Wealth[t], t))\n",
    "        advantage = Ep_Reward[t] - state_value\n",
    "        exp.append({'s0' : np.append(Ep_Wealth[t], t), 'a': Ep_Action[t], 'r': advantage, 's1': Ep_Wealth[t+1]})\n",
    "        V_exp.append({'s0' : np.append(Ep_Wealth[t], t), 'V' : Ep_Reward[t]})\n",
    "        \n",
    "    # Refit using the most recent experiences then clear all the records\n",
    "    if len(exp)/n_steps == refit:\n",
    "        X = np.array([d['s0'] for d in exp]).reshape(-1, s_dim)\n",
    "        Y_policy = [d['a'] for d in exp]\n",
    "        Y_Value = [d['V'] for d in V_exp]\n",
    "        Advantage = np.array([d['r'] for d in exp]).reshape(-1,1)\n",
    "        PNetwork.fit(X, Y_policy, Epoch =1, learn_rate = learn_Rate, Loss = 'Gaussian', sigma_sq = Sigma_sq, reward = Advantage)\n",
    "        VNetwork.fit(X, Y_Value, Epoch = 1, learn_rate = learn_Rate, Loss = 'Ordinary')\n",
    "        exp = []\n",
    "        V_exp = []\n",
    "        \n",
    "    if (PNetwork._Weights is not None) and (i%100 == 0):\n",
    "        Plot_X.append(i)\n",
    "        s0 = np.ones((1,1))\n",
    "        temp = []\n",
    "        for k in range(n_steps):\n",
    "            X = np.append(s0, k)\n",
    "            Step_Mu = Mu(X)\n",
    "            temp.append(np.append(Step_Mu, k))\n",
    "            s1 = s0 * (Step_Mu * GBM_Return() + (1 - leverage) * (1 + rf * dt))\n",
    "            \n",
    "        Plot_Y.append(temp)\n"
   ]
  },
  {
   "cell_type": "code",
   "execution_count": 5,
   "metadata": {},
   "outputs": [
    {
     "data": {
      "text/plain": [
       "<matplotlib.collections.LineCollection at 0x142e025f588>"
      ]
     },
     "execution_count": 5,
     "metadata": {},
     "output_type": "execute_result"
    },
    {
     "data": {
      "image/png": "[encoded data removed]",
      "text/plain": [
       "<Figure size 432x288 with 1 Axes>"
      ]
     },
     "metadata": {
      "needs_background": "light"
     },
     "output_type": "display_data"
    }
   ],
   "source": [
    "Plot_Y = np.array(Plot_Y)\n",
    "for j in range(n_steps):\n",
    "    Plot_n = Plot_Y[:,j,0]\n",
    "    plt.plot(Plot_X, Plot_n)\n",
    "plt.legend([j for j in range(n_steps)])\n",
    "plt.hlines((mu - rf) / (Risk_Aversion * sigma**2), xmin= 0, xmax= n_episodes, color = 'r')"
   ]
  },
  {
   "cell_type": "code",
   "execution_count": 8,
   "metadata": {},
   "outputs": [
    {
     "data": {
      "text/plain": [
       "array([0.14265131])"
      ]
     },
     "execution_count": 8,
     "metadata": {},
     "output_type": "execute_result"
    }
   ],
   "source": [
    "PNetwork.predict(np.append(s0, 11)) - PNetwork.predict(np.append(s0,0))"
   ]
  },
  {
   "cell_type": "code",
   "execution_count": null,
   "metadata": {},
   "outputs": [],
   "source": []
  },
  {
   "cell_type": "code",
   "execution_count": null,
   "metadata": {},
   "outputs": [],
   "source": []
  },
  {
   "cell_type": "code",
   "execution_count": null,
   "metadata": {},
   "outputs": [],
   "source": []
  },
  {
   "cell_type": "code",
   "execution_count": null,
   "metadata": {},
   "outputs": [],
   "source": []
  },
  {
   "cell_type": "code",
   "execution_count": null,
   "metadata": {},
   "outputs": [],
   "source": []
  },
  {
   "cell_type": "code",
   "execution_count": null,
   "metadata": {},
   "outputs": [],
   "source": []
  },
  {
   "cell_type": "code",
   "execution_count": null,
   "metadata": {},
   "outputs": [],
   "source": []
  },
  {
   "cell_type": "code",
   "execution_count": null,
   "metadata": {},
   "outputs": [],
   "source": []
  },
  {
   "cell_type": "code",
   "execution_count": null,
   "metadata": {},
   "outputs": [],
   "source": []
  },
  {
   "cell_type": "code",
   "execution_count": null,
   "metadata": {},
   "outputs": [],
   "source": []
  },
  {
   "cell_type": "code",
   "execution_count": null,
   "metadata": {},
   "outputs": [],
   "source": []
  }
 ],
 "metadata": {
  "kernelspec": {
   "display_name": "Python 3",
   "language": "python",
   "name": "python3"
  },
  "language_info": {
   "codemirror_mode": {
    "name": "ipython",
    "version": 3
   },
   "file_extension": ".py",
   "mimetype": "text/x-python",
   "name": "python",
   "nbconvert_exporter": "python",
   "pygments_lexer": "ipython3",
   "version": "3.7.3"
  }
 },
 "nbformat": 4,
 "nbformat_minor": 2
}
