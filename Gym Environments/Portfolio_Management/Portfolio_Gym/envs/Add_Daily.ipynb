{
 "cells": [
  {
   "cell_type": "code",
   "execution_count": 1,
   "metadata": {},
   "outputs": [],
   "source": [
    "import pandas as pd\n",
    "import numpy as np\n",
    "from copy import deepcopy\n",
    "from datetime import date, timedelta"
   ]
  },
  {
   "cell_type": "code",
   "execution_count": 2,
   "metadata": {
    "scrolled": true
   },
   "outputs": [],
   "source": [
    "def convert_time(list_in):\n",
    "    out = []\n",
    "    for item in list_in:\n",
    "        item = str(item)\n",
    "        year = int(item[:4])\n",
    "        mon = int(item[4:6])\n",
    "        if len(item) >6:\n",
    "            day = int(item[6:])\n",
    "            new = date(year, mon, day)\n",
    "        else:\n",
    "            year += mon//12\n",
    "            mon = mon%12 + 1\n",
    "            new = date(year, mon, 1) - timedelta(1)\n",
    "            while new.weekday()>=5:\n",
    "                new = new - timedelta(1)\n",
    "        out.append(new)\n",
    "    return out\n",
    "\n",
    "def Reconcile(list_in, Ref_list):\n",
    "    list_out = deepcopy(list_in)\n",
    "    Ref_List.sort()\n",
    "    for i, days in enumerate(list_in):\n",
    "        if days < Ref_list[0] or days > Ref_list[-1]:\n",
    "            continue\n",
    "        while days not in Ref_list:\n",
    "            days = days - timedelta(1)\n",
    "        list_out[i] = days\n",
    "    return list_out"
   ]
  },
  {
   "cell_type": "code",
   "execution_count": 3,
   "metadata": {},
   "outputs": [],
   "source": [
    "Daily = pd.read_csv('PredictorDataDaily.csv', index_col = 0)\n",
    "Month_v0 = pd.read_csv('PredictorDataMonthly.csv', index_col = 0)\n",
    "Month_v1 = pd.read_csv('Monthly_Data.csv', index_col = 0)"
   ]
  },
  {
   "cell_type": "code",
   "execution_count": 4,
   "metadata": {
    "scrolled": true
   },
   "outputs": [],
   "source": [
    "Unique = Daily[['Mkt-RF','SMB','HML']]\n",
    "Unique.index = pd.to_datetime(convert_time(Unique.index))\n",
    "Month_v0.index = pd.to_datetime(convert_time(Month_v0.index))\n",
    "Month_v1.index = pd.to_datetime(Month_v1.index)"
   ]
  },
  {
   "cell_type": "code",
   "execution_count": 5,
   "metadata": {
    "scrolled": true
   },
   "outputs": [],
   "source": [
    "Ref_List = list(Unique.index)\n",
    "Month_v1.index = pd.to_datetime(Reconcile(list(Month_v1.index), Ref_List))\n",
    "Common = Unique.index.intersection(Month_v1.index)\n",
    "Month_v1_subset = Month_v1.loc[Common]"
   ]
  },
  {
   "cell_type": "code",
   "execution_count": 6,
   "metadata": {},
   "outputs": [],
   "source": [
    "Month_start = Unique.index[0]\n",
    "Result = np.zeros([len(Common), 90]) ##Create a more than big enough numpy array to contain results\n",
    "for i, checkpoint in enumerate(Common):\n",
    "    Month_End = checkpoint\n",
    "    Daily_Uniques = Unique.loc[Month_start:Month_End].unstack().values\n",
    "    Result[i, :len(Daily_Uniques)] = Daily_Uniques\n",
    "    Month_start = Month_End + timedelta(1)\n",
    "All_Zero_idx = np.argwhere(np.all(Result[..., :] == 0, axis=0)) #Then delete the all-zero columns \n",
    "Result = np.delete(Result, All_Zero_idx, axis=1)"
   ]
  },
  {
   "cell_type": "code",
   "execution_count": 7,
   "metadata": {
    "scrolled": true
   },
   "outputs": [],
   "source": [
    "N_day = int(Result.shape[1]/3)\n",
    "Name_list = []\n",
    "for i in range(3):\n",
    "    factor = Unique.columns[i]\n",
    "    for j in range(N_day):\n",
    "        Name = factor + ' day ' + str(j)\n",
    "        Name_list.append(Name)"
   ]
  },
  {
   "cell_type": "code",
   "execution_count": 8,
   "metadata": {},
   "outputs": [],
   "source": [
    "Month_v1_subset = pd.concat([Month_v1_subset, pd.DataFrame(Result, index = Common, columns = Name_list)], axis= 1)\n",
    "Month_v1_subset.to_csv('Monthly_Data_Added_Daily.csv')"
   ]
  },
  {
   "cell_type": "code",
   "execution_count": 9,
   "metadata": {},
   "outputs": [],
   "source": [
    "Ref_List = list(Unique.index)\n",
    "Month_v0.index = pd.to_datetime(Reconcile(list(Month_v0.index), Ref_List))\n",
    "Common = Unique.index.intersection(Month_v0.index)\n",
    "Month_v0_subset = Month_v0.loc[Common]\n",
    "Month_start = Unique.index[0]\n",
    "Result = np.zeros([len(Common), 90]) ##Create a more than big enough numpy array to contain results\n",
    "for i, checkpoint in enumerate(Common):\n",
    "    Month_End = checkpoint\n",
    "    Daily_Uniques = Unique.loc[Month_start:Month_End].unstack().values\n",
    "    Result[i, :len(Daily_Uniques)] = Daily_Uniques\n",
    "    Month_start = Month_End + timedelta(1)\n",
    "All_Zero_idx = np.argwhere(np.all(Result[..., :] == 0, axis=0)) #Then delete the all-zero columns \n",
    "Result = np.delete(Result, All_Zero_idx, axis=1)\n",
    "N_day = int(Result.shape[1]/3)\n",
    "Name_list = []\n",
    "for i in range(3):\n",
    "    factor = Unique.columns[i]\n",
    "    for j in range(N_day):\n",
    "        Name = factor + ' day ' + str(j)\n",
    "        Name_list.append(Name)\n",
    "Month_v0_subset = pd.concat([Month_v0_subset, pd.DataFrame(Result, index = Common, columns = Name_list)], axis= 1)\n",
    "Month_v0_subset.to_csv('PredictorDataMonthly_Added_Daily.csv')"
   ]
  },
  {
   "cell_type": "code",
   "execution_count": null,
   "metadata": {},
   "outputs": [],
   "source": []
  },
  {
   "cell_type": "code",
   "execution_count": null,
   "metadata": {},
   "outputs": [],
   "source": []
  }
 ],
 "metadata": {
  "kernelspec": {
   "display_name": "Python 3",
   "language": "python",
   "name": "python3"
  },
  "language_info": {
   "codemirror_mode": {
    "name": "ipython",
    "version": 3
   },
   "file_extension": ".py",
   "mimetype": "text/x-python",
   "name": "python",
   "nbconvert_exporter": "python",
   "pygments_lexer": "ipython3",
   "version": "3.7.3"
  }
 },
 "nbformat": 4,
 "nbformat_minor": 2
}
