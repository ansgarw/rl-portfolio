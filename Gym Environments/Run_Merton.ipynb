{
 "cells": [
  {
   "cell_type": "code",
   "execution_count": 1,
   "metadata": {},
   "outputs": [],
   "source": [
    "import gym\n",
    "import gym_Merton\n",
    "\n",
    "Mu = 0.05\n",
    "Sigma = 0.07\n",
    "Rf = 0.03\n",
    "Time_Horizon = 5\n",
    "Time_Step = 1e-3\n",
    "Risk_Aversion = 0.7\n",
    "Max_Leverage = 5\n",
    "Min_Leverage = -5\n",
    "\n",
    "env = gym.make('Merton-v0', Mu = Mu, Sigma = Sigma, Rf = Rf, Max_Leverage = Max_Leverage, Min_Leverage = Min_Leverage, Time_Horizon = Time_Horizon, Time_Step = Time_Step, Risk_Aversion = Risk_Aversion)    "
   ]
  },
  {
   "cell_type": "code",
   "execution_count": 3,
   "metadata": {},
   "outputs": [
    {
     "name": "stdout",
     "output_type": "stream",
     "text": [
      "[3.9017606]\n",
      "Current Wealth: 0.6864, Tau: 0\n",
      "Episode finished with reward: 2.977553700199102\n",
      "[1.0079378]\n",
      "Current Wealth: 0.8124, Tau: 0\n",
      "Episode finished with reward: 3.131954609001622\n",
      "[-0.22665857]\n",
      "Current Wealth: 1.8614, Tau: 0\n",
      "Episode finished with reward: 4.016335715555311\n",
      "[0.44456363]\n",
      "Current Wealth: 0.814, Tau: 0\n",
      "Episode finished with reward: 3.1337992975323226\n",
      "[-4.8426166]\n",
      "Current Wealth: 1.6142, Tau: 0\n",
      "Episode finished with reward: 3.848304656898336\n"
     ]
    }
   ],
   "source": [
    "for i in range(5):\n",
    "    env.reset()\n",
    "    for t in range(int(env.TIME_HORIZON / env.TIME_STEP)):\n",
    "        action = env.action_space.sample()\n",
    "        observation, reward, done, info = env.step(action)\n",
    "        if done:\n",
    "            print(action)\n",
    "            env.render()\n",
    "            print(\"Episode finished with reward: \" + str(reward))\n",
    "            break   \n",
    "        \n",
    "env.close()"
   ]
  },
  {
   "cell_type": "code",
   "execution_count": null,
   "metadata": {},
   "outputs": [],
   "source": []
  },
  {
   "cell_type": "code",
   "execution_count": null,
   "metadata": {},
   "outputs": [],
   "source": []
  },
  {
   "cell_type": "code",
   "execution_count": null,
   "metadata": {},
   "outputs": [],
   "source": []
  }
 ],
 "metadata": {
  "kernelspec": {
   "display_name": "Python 3",
   "language": "python",
   "name": "python3"
  },
  "language_info": {
   "codemirror_mode": {
    "name": "ipython",
    "version": 3
   },
   "file_extension": ".py",
   "mimetype": "text/x-python",
   "name": "python",
   "nbconvert_exporter": "python",
   "pygments_lexer": "ipython3",
   "version": "3.7.3"
  }
 },
 "nbformat": 4,
 "nbformat_minor": 2
}
