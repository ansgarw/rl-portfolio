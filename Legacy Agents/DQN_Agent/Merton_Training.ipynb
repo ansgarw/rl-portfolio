{
 "cells": [
  {
   "cell_type": "code",
   "execution_count": null,
   "metadata": {},
   "outputs": [],
   "source": [
    "import time\n",
    "import gym\n",
    "import gym_Merton\n",
    "import matplotlib.pyplot as plt\n",
    "\n",
    "import DQN_Agent_IV as DQN_Lib"
   ]
  },
  {
   "cell_type": "code",
   "execution_count": null,
   "metadata": {},
   "outputs": [],
   "source": [
    "FileName = \"Merton_FileName.pkl\""
   ]
  },
  {
   "cell_type": "code",
   "execution_count": null,
   "metadata": {},
   "outputs": [],
   "source": [
    "myEnv = gym.make('Merton-v0', Mu = 0.04,\n",
    "                              Sigma = 0.1,\n",
    "                              Rf = 0.02,\n",
    "                              Time_Horizon = 1,\n",
    "                              Time_Step = 1/252,\n",
    "                              Risk_Aversion = 1.5,\n",
    "                              Max_Leverage = 2.0,\n",
    "                              Min_Leverage = -2.0)\n"
   ]
  },
  {
   "cell_type": "code",
   "execution_count": null,
   "metadata": {},
   "outputs": [],
   "source": []
  },
  {
   "cell_type": "code",
   "execution_count": null,
   "metadata": {
    "scrolled": true
   },
   "outputs": [],
   "source": [
    "# Initialise DQN Agent - Version IV only, Asyncronous versions need all the above \n",
    "# parameters to create the environment, which is not yet supported (other than copying \n",
    "# it directly over and hardcodeing the agent.)\n",
    "DQN = DQN_Lib.DQN_Agent(myEnv, (1), Gamma = (1 - (0.02/252)), \n",
    "                        Epoch = 50, Min_Exp = 1000000, \n",
    "                        Over_Sample = False, Replay_Size = 100000,\n",
    "                        Learning_Rate = 0.01, Batch_Size = 5000, Activation = 'relu')\n",
    "\n",
    "# DQN.Load(FileName)\n",
    "DQN.Initialise_Experiance()\n"
   ]
  },
  {
   "cell_type": "code",
   "execution_count": null,
   "metadata": {},
   "outputs": [],
   "source": []
  },
  {
   "cell_type": "code",
   "execution_count": null,
   "metadata": {
    "scrolled": false
   },
   "outputs": [],
   "source": [
    "# Perform a Train and plot the results.\n",
    "DQN.Initialise_Experiance()\n",
    "\n",
    "Start = time.time()\n",
    "Rewards, Epsilon = DQN.Train(7500)\n",
    "End = time.time()\n",
    "print(\"Time Elapsed: \" + str(round(End - Start, 4)))\n",
    "\n",
    "DQN.Print_Action_Space()\n",
    "DQN.Print_V_Function()\n",
    "\n",
    "X = list(range(len(Rewards)))\n",
    "plt.subplot(2, 1, 1)\n",
    "plt.plot(X, Rewards, '-', lw=2)\n",
    "plt.ylabel('Reward')\n",
    "plt.xlabel('Episodes')\n",
    "plt.grid(True)\n",
    "\n",
    "plt.subplot(2, 1, 2)\n",
    "plt.plot(X, Epsilon, '-', lw=2)\n",
    "plt.ylabel('Epsilon')\n",
    "plt.xlabel('Episodes')\n",
    "plt.show()\n"
   ]
  },
  {
   "cell_type": "code",
   "execution_count": null,
   "metadata": {},
   "outputs": [],
   "source": [
    "# Make edits to the DQN here before saving\n",
    "# DQN.Online_Model.learning_rate_init = 0.001\n",
    "# DQN.Model_Iter_ = 0\n",
    "# DQN.Gamma = 1 - (0.02 / 252)\n",
    "print(DQN.Model_Iter_)\n",
    "DQN.Update_Offline_Network = 250\n",
    "DQN.Replay_Ratio = 5"
   ]
  },
  {
   "cell_type": "code",
   "execution_count": null,
   "metadata": {},
   "outputs": [],
   "source": [
    "# Save the Model\n",
    "DQN.Save(FileName)\n",
    "print(\"Save Completed!\")"
   ]
  },
  {
   "cell_type": "code",
   "execution_count": null,
   "metadata": {},
   "outputs": [],
   "source": [
    "# Run the environment with render. Will break jupyter so be sure to save first.\n",
    "Done = False\n",
    "State = myEnv.reset()\n",
    "while Done == False:\n",
    "    Action = DQN.Decide_Action(State)\n",
    "    State, Reward, Done, Info = myEnv.step(Action)\n",
    "    myEnv.render()\n",
    "myEnv.close()\n"
   ]
  },
  {
   "cell_type": "code",
   "execution_count": null,
   "metadata": {},
   "outputs": [],
   "source": [
    "# Check the Saved file was actually saved\n",
    "NewAgent = DQN_Agent(myEnv, (8,8,8))\n",
    "NewAgent.Load(FileName)\n",
    "NewAgent.Print_Action_Space()\n",
    "NewAgent.Print_V_Function()"
   ]
  },
  {
   "cell_type": "code",
   "execution_count": null,
   "metadata": {},
   "outputs": [],
   "source": []
  },
  {
   "cell_type": "code",
   "execution_count": null,
   "metadata": {},
   "outputs": [],
   "source": []
  },
  {
   "cell_type": "code",
   "execution_count": null,
   "metadata": {},
   "outputs": [],
   "source": []
  },
  {
   "cell_type": "code",
   "execution_count": null,
   "metadata": {},
   "outputs": [],
   "source": []
  }
 ],
 "metadata": {
  "kernelspec": {
   "display_name": "Python 3",
   "language": "python",
   "name": "python3"
  },
  "language_info": {
   "codemirror_mode": {
    "name": "ipython",
    "version": 3
   },
   "file_extension": ".py",
   "mimetype": "text/x-python",
   "name": "python",
   "nbconvert_exporter": "python",
   "pygments_lexer": "ipython3",
   "version": "3.6.2"
  }
 },
 "nbformat": 4,
 "nbformat_minor": 2
}
