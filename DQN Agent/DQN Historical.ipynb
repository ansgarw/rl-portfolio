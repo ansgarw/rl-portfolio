{
 "cells": [
  {
   "cell_type": "code",
   "execution_count": 1,
   "metadata": {},
   "outputs": [],
   "source": [
    "import matplotlib.pyplot as plt\n",
    "import numpy             as np\n",
    "\n",
    "import gym\n",
    "import Portfolio_Gym\n",
    "import DQN_I "
   ]
  },
  {
   "cell_type": "code",
   "execution_count": 2,
   "metadata": {},
   "outputs": [],
   "source": [
    "# This notebook facilitates the application of the DQN agent to the \n",
    "# historical environment."
   ]
  },
  {
   "cell_type": "code",
   "execution_count": 3,
   "metadata": {},
   "outputs": [
    {
     "name": "stderr",
     "output_type": "stream",
     "text": [
      "/Library/Frameworks/Python.framework/Versions/3.6/lib/python3.6/site-packages/gym/envs/registration.py:14: PkgResourcesDeprecationWarning: Parameters to load are deprecated.  Call .resolve and .require separately.\n",
      "  result = entry_point.load(False)\n",
      "/Users/jakefowler/Documents/GitHub/rl-portfolio/DQN Agent/DQN_I.py:49: RuntimeWarning: overflow encountered in exp\n",
      "  return 1.0 / (1.0 + np.exp(-X))\n"
     ]
    },
    {
     "name": "stdout",
     "output_type": "stream",
     "text": [
      "CPU times: user 2min 10s, sys: 7.25 s, total: 2min 17s\n",
      "Wall time: 1min 29s\n"
     ]
    },
    {
     "data": {
      "image/png": "[encoded data removed]",
      "text/plain": [
       "<Figure size 720x720 with 1 Axes>"
      ]
     },
     "metadata": {
      "needs_background": "light"
     },
     "output_type": "display_data"
    }
   ],
   "source": [
    "%%time\n",
    "\n",
    "N_Eps  = int(3e3)\n",
    "Network_Hypers = {\"Learning Rate\" : 0.075,\n",
    "                  \"Epoch\"         : 5,\n",
    "                  \"Network Size\"  : [32, 16],\n",
    "                  \"Activation\"    : \"Sigmoid\",\n",
    "                  \"Alpha\"         : 0.015}\n",
    "\n",
    "Env = gym.make('Historical_Monthly-v0')\n",
    "Env.Set_Params(Risk_Aversion = 1,  Episode_Length = 12,  Max_Leverage  = 5,\n",
    "               Min_Leverage = -5,  Validation_Frac = 0.3)\n",
    "\n",
    "myDQN = DQN_I.DQN(Env, 11, Network_Hypers, Batch_Size = 2048, Retrain_Frequency = 16, \n",
    "                  Gamma = 0.9992, Epsilon_Range = [1, 0.1], Epsilon_Anneal = 0.9, \n",
    "                  Async_Enabled = False)\n",
    "\n",
    "myDQN.Train(N_Eps)\n",
    "Results = myDQN.Validate(100)\n",
    "\n",
    "f, ax = plt.subplots(1,1, figsize = (10,10))\n",
    "ax.scatter(np.arange(len(Results)), Results)\n",
    "ax.set_ylabel(\"Utility\")\n",
    "ax.set_xlabel(\"Validation Ep.\")\n",
    "\n"
   ]
  },
  {
   "cell_type": "code",
   "execution_count": null,
   "metadata": {},
   "outputs": [],
   "source": []
  }
 ],
 "metadata": {
  "kernelspec": {
   "display_name": "Python 3",
   "language": "python",
   "name": "python3"
  },
  "language_info": {
   "codemirror_mode": {
    "name": "ipython",
    "version": 3
   },
   "file_extension": ".py",
   "mimetype": "text/x-python",
   "name": "python",
   "nbconvert_exporter": "python",
   "pygments_lexer": "ipython3",
   "version": "3.6.2"
  }
 },
 "nbformat": 4,
 "nbformat_minor": 2
}
