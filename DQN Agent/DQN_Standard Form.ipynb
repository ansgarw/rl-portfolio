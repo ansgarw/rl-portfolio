{
 "cells": [
  {
   "cell_type": "code",
   "execution_count": 1,
   "metadata": {},
   "outputs": [],
   "source": [
    "import matplotlib.pyplot as plt\n",
    "import gym\n",
    "import Portfolio_Gym\n",
    "from DQN_MH_NP import DQN_MH_NP"
   ]
  },
  {
   "cell_type": "code",
   "execution_count": 2,
   "metadata": {
    "scrolled": true
   },
   "outputs": [
    {
     "name": "stderr",
     "output_type": "stream",
     "text": [
      "C:\\Users\\Hli\\Anaconda3\\lib\\site-packages\\gym\\envs\\registration.py:14: PkgResourcesDeprecationWarning: Parameters to load are deprecated.  Call .resolve and .require separately.\n",
      "  result = entry_point.load(False)\n"
     ]
    }
   ],
   "source": [
    "Retrain_Frequency = 25\n",
    "Epsilon_Range       = [1, 0.1]\n",
    "Epsilon_Anneal      = 0.5\n",
    "Gamma             = 0.99\n",
    "\n",
    "DQN_Hypers   =   {\"Learning Rate\"  : 0.01,\n",
    "                  \"Batch_Size\"     : 50,\n",
    "                  \"Network Size\"   : [8, 8],\n",
    "                  \"Activation\"     : \"Sigmoid\",\n",
    "                  'Epoch'          : 10,\n",
    "                  \"Alpha\"          : 0}\n",
    "\n",
    "Env = gym.make('Historical_Monthly-v1')\n",
    "Env.Set_Params(Risk_Aversion = 1,   Episode_Length = 60,   Max_Leverage  = 3,\n",
    "               Min_Leverage = -3, Validation_Frac = 0.3, Intermediate_Reward = True)\n",
    "\n",
    "myDQN = DQN_MH_NP(Env, 11, DQN_Hypers, Gamma, Epsilon_Range, Epsilon_Anneal, Retrain_Frequency)"
   ]
  },
  {
   "cell_type": "code",
   "execution_count": 3,
   "metadata": {
    "scrolled": true
   },
   "outputs": [
    {
     "name": "stderr",
     "output_type": "stream",
     "text": [
      "100%|██████████| 200/200 [00:00<00:00, 247.42it/s]\n"
     ]
    }
   ],
   "source": [
    "myDQN.Train(200)"
   ]
  },
  {
   "cell_type": "code",
   "execution_count": null,
   "metadata": {},
   "outputs": [],
   "source": []
  },
  {
   "cell_type": "code",
   "execution_count": null,
   "metadata": {},
   "outputs": [],
   "source": []
  },
  {
   "cell_type": "code",
   "execution_count": null,
   "metadata": {},
   "outputs": [],
   "source": []
  },
  {
   "cell_type": "code",
   "execution_count": null,
   "metadata": {},
   "outputs": [],
   "source": []
  },
  {
   "cell_type": "code",
   "execution_count": null,
   "metadata": {},
   "outputs": [],
   "source": []
  }
 ],
 "metadata": {
  "kernelspec": {
   "display_name": "Python 3",
   "language": "python",
   "name": "python3"
  },
  "language_info": {
   "codemirror_mode": {
    "name": "ipython",
    "version": 3
   },
   "file_extension": ".py",
   "mimetype": "text/x-python",
   "name": "python",
   "nbconvert_exporter": "python",
   "pygments_lexer": "ipython3",
   "version": "3.7.3"
  }
 },
 "nbformat": 4,
 "nbformat_minor": 2
}
