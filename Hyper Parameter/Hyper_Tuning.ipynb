{
 "cells": [
  {
   "cell_type": "code",
   "execution_count": 1,
   "metadata": {},
   "outputs": [
    {
     "name": "stderr",
     "output_type": "stream",
     "text": [
      "WARNING: Logging before flag parsing goes to stderr.\n",
      "W1124 14:57:55.244490 83504 deprecation_wrapper.py:119] From C:\\Users\\Hli\\Desktop\\Hyper Tuning\\A2C_X.py:6: The name tf.disable_v2_behavior is deprecated. Please use tf.compat.v1.disable_v2_behavior instead.\n",
      "\n",
      "W1124 14:57:55.244490 83504 deprecation.py:323] From C:\\Users\\Hli\\Anaconda3\\lib\\site-packages\\tensorflow\\python\\compat\\v2_compat.py:61: disable_resource_variables (from tensorflow.python.ops.variable_scope) is deprecated and will be removed in a future version.\n",
      "Instructions for updating:\n",
      "non-resource variables are not supported in the long term\n",
      "W1124 14:57:55.244490 83504 deprecation_wrapper.py:119] From C:\\Users\\Hli\\Desktop\\Hyper Tuning\\A2C_X.py:7: The name tf.logging.set_verbosity is deprecated. Please use tf.compat.v1.logging.set_verbosity instead.\n",
      "\n",
      "W1124 14:57:55.258146 83504 deprecation_wrapper.py:119] From C:\\Users\\Hli\\Desktop\\Hyper Tuning\\A2C_X.py:7: The name tf.logging.ERROR is deprecated. Please use tf.compat.v1.logging.ERROR instead.\n",
      "\n"
     ]
    }
   ],
   "source": [
    "'''\n",
    "Train and test an actor critic across the simulated environment.\n",
    "'''\n",
    "\n",
    "import Portfolio_Gym\n",
    "import gym\n",
    "import numpy as np\n",
    "\n",
    "from copy import deepcopy\n",
    "from Wrapper_Hyper_Tuning import Wrapper_WIP, train_and_collect_test\n",
    "from Wrapper import Wrapper\n",
    "from A2C_X import Actor_Critic\n",
    "import warnings\n",
    "warnings.simplefilter(\"ignore\")"
   ]
  },
  {
   "cell_type": "code",
   "execution_count": 2,
   "metadata": {},
   "outputs": [],
   "source": [
    "Env = gym.make('Historical-v0')\n",
    "Env.Set_Params(Max_Leverage = 100, Min_Leverage = -100, Episode_Length = 50)\n",
    "\n",
    "Base_Para = {'Actor_Network_Size'   : [16,8], \n",
    "             'Actor_Learning_Rate'  : 0.001, \n",
    "             'Actor_Batch'          : 200,\n",
    "             'Actor_Activation'     : \"tanh\", \n",
    "             'Actor_Alpha'          : 0.05,\n",
    "             'Actor_Epoch'          : 1,\n",
    "             'Critic_Network_Size'  : [16,8],\n",
    "             'Critic_Learning_Rate' : 0.001,\n",
    "             'Critic_Batch'         : 200, \n",
    "             'Critic_Activation'    : 'tanh',\n",
    "             'Critic_Alpha'         : 0.05,\n",
    "             'Critic_Epoch'         : 3, \n",
    "             'Gamma'                : 0.999, \n",
    "             'Sigma_Range'          : [2,0.5], \n",
    "             'Sigma_Anneal'         : 1, \n",
    "             'Retrain_Frequency'    : 60,\n",
    "             'Action_Space_Clip'    : 75,\n",
    "             'Experiance_Mode'      : 'TD_Lambda',\n",
    "             'TD_Lambda'            : 0.5,\n",
    "             'Monte_Carlo_Frac'     : 0.1}\n",
    "\n",
    "N_Eps = int(1e5)"
   ]
  },
  {
   "cell_type": "code",
   "execution_count": 3,
   "metadata": {},
   "outputs": [],
   "source": [
    "HP_Wrapper = Wrapper_WIP(Env, Actor_Critic)\n",
    "HP_Wrapper.Set_Params(Target = 'Repeat_Env', N_Episodes = N_Eps, Agent_Specs = Base_Para)"
   ]
  },
  {
   "cell_type": "code",
   "execution_count": null,
   "metadata": {
    "scrolled": true
   },
   "outputs": [],
   "source": [
    "HP_Wrapper.Run()"
   ]
  },
  {
   "cell_type": "code",
   "execution_count": null,
   "metadata": {},
   "outputs": [],
   "source": []
  },
  {
   "cell_type": "code",
   "execution_count": null,
   "metadata": {},
   "outputs": [],
   "source": []
  },
  {
   "cell_type": "code",
   "execution_count": null,
   "metadata": {},
   "outputs": [],
   "source": []
  },
  {
   "cell_type": "code",
   "execution_count": null,
   "metadata": {},
   "outputs": [],
   "source": []
  },
  {
   "cell_type": "code",
   "execution_count": null,
   "metadata": {},
   "outputs": [],
   "source": []
  },
  {
   "cell_type": "code",
   "execution_count": null,
   "metadata": {},
   "outputs": [],
   "source": []
  },
  {
   "cell_type": "code",
   "execution_count": null,
   "metadata": {},
   "outputs": [],
   "source": []
  },
  {
   "cell_type": "code",
   "execution_count": null,
   "metadata": {},
   "outputs": [],
   "source": []
  }
 ],
 "metadata": {
  "kernelspec": {
   "display_name": "Python 3",
   "language": "python",
   "name": "python3"
  },
  "language_info": {
   "codemirror_mode": {
    "name": "ipython",
    "version": 3
   },
   "file_extension": ".py",
   "mimetype": "text/x-python",
   "name": "python",
   "nbconvert_exporter": "python",
   "pygments_lexer": "ipython3",
   "version": "3.7.3"
  }
 },
 "nbformat": 4,
 "nbformat_minor": 2
}
