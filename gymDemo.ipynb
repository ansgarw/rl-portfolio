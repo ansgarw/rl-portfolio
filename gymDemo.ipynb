{
 "cells": [
  {
   "cell_type": "code",
   "execution_count": 1,
   "metadata": {},
   "outputs": [],
   "source": [
    "import gym\n",
    "import Portfolio_Gym\n"
   ]
  },
  {
   "cell_type": "code",
   "execution_count": 2,
   "metadata": {},
   "outputs": [
    {
     "name": "stderr",
     "output_type": "stream",
     "text": [
      "/Library/Frameworks/Python.framework/Versions/3.6/lib/python3.6/site-packages/gym/envs/registration.py:14: PkgResourcesDeprecationWarning: Parameters to load are deprecated.  Call .resolve and .require separately.\n",
      "  result = entry_point.load(False)\n"
     ]
    },
    {
     "name": "stdout",
     "output_type": "stream",
     "text": [
      "Current Wealth: 0.867, Tau: 1\n",
      "\n",
      "Current Wealth: 0.1682, Tau: 0\n",
      "\n",
      "Current Wealth: 0.4246, Tau: 1\n",
      "\n",
      "Current Wealth: 1.794, Tau: 0\n",
      "\n",
      "Current Wealth: 0.7471, Tau: 1\n",
      "\n",
      "Current Wealth: 0.2883, Tau: 0\n",
      "\n",
      "Current Wealth: 0.1871, Tau: 1\n",
      "\n",
      "Current Wealth: 0.1973, Tau: 0\n",
      "\n",
      "Current Wealth: 0.6003, Tau: 1\n",
      "\n",
      "Current Wealth: 0.4915, Tau: 0\n",
      "\n"
     ]
    }
   ],
   "source": [
    "# Demo the simulated enviornment\n",
    "Env = gym.make('Simulated-v0')\n",
    "\n",
    "for i in range(5):\n",
    "    Done = False\n",
    "    State = Env.reset()\n",
    "    Env.render()\n",
    "    while Done == False:\n",
    "        State, Reward, Done, Info = Env.step(Env.action_space.sample())\n",
    "    Env.render()\n",
    "#"
   ]
  },
  {
   "cell_type": "code",
   "execution_count": 3,
   "metadata": {},
   "outputs": [
    {
     "name": "stdout",
     "output_type": "stream",
     "text": [
      "Keyword: Time_Step not recognised.\n"
     ]
    },
    {
     "name": "stderr",
     "output_type": "stream",
     "text": [
      "/Library/Frameworks/Python.framework/Versions/3.6/lib/python3.6/site-packages/gym/envs/registration.py:14: PkgResourcesDeprecationWarning: Parameters to load are deprecated.  Call .resolve and .require separately.\n",
      "  result = entry_point.load(False)\n",
      "/Users/jakefowler/Documents/GitHub/rl-portfolio/Gym Environments/Portfolio_Management/Portfolio_Gym/envs/Historical.py:97: UserWarning: Time_Step may not be changed, please use the daily/monthly environment\n",
      "  warnings.warn(\"Time_Step may not be changed, please use the daily/monthly environment\")\n"
     ]
    },
    {
     "name": "stdout",
     "output_type": "stream",
     "text": [
      "Current Wealth : 0.7471524048818495\n",
      "Starting Index : 13158\n",
      "Ending Index   : 13170\n",
      "\n",
      "Current Wealth : 1.2736819461342592\n",
      "Starting Index : 1629\n",
      "Ending Index   : 1641\n",
      "\n",
      "Current Wealth : 0.6020622013800636\n",
      "Starting Index : 5787\n",
      "Ending Index   : 5799\n",
      "\n",
      "Current Wealth : 1.3329030176375312\n",
      "Starting Index : 11476\n",
      "Ending Index   : 11488\n",
      "\n",
      "Current Wealth : 0.9997974611445894\n",
      "Starting Index : 16865\n",
      "Ending Index   : 16877\n",
      "\n"
     ]
    }
   ],
   "source": [
    "## Demo the historical enviornment\n",
    "Env = gym.make('Historical_Daily-v0')\n",
    "Env.Set_Params(Time_Step = \"Monthly\", Risk_Aversion = 12, Max_Leverage = 750, Min_Leverage = -100, Episode_Length = 12)\n",
    "\n",
    "for i in range(5):\n",
    "    Done  = False\n",
    "    State = Env.reset()\n",
    "    while Done == False:\n",
    "        State, Reward, Done, Info = Env.step(Env.action_space.sample())\n",
    "    Env.render()\n",
    "\n"
   ]
  },
  {
   "cell_type": "code",
   "execution_count": null,
   "metadata": {},
   "outputs": [],
   "source": []
  },
  {
   "cell_type": "code",
   "execution_count": null,
   "metadata": {},
   "outputs": [],
   "source": []
  }
 ],
 "metadata": {
  "kernelspec": {
   "display_name": "Python 3",
   "language": "python",
   "name": "python3"
  },
  "language_info": {
   "codemirror_mode": {
    "name": "ipython",
    "version": 3
   },
   "file_extension": ".py",
   "mimetype": "text/x-python",
   "name": "python",
   "nbconvert_exporter": "python",
   "pygments_lexer": "ipython3",
   "version": "3.6.2"
  }
 },
 "nbformat": 4,
 "nbformat_minor": 2
}
