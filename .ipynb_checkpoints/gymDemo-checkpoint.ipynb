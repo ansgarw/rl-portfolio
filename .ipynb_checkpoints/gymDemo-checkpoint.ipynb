{
 "cells": [
  {
   "cell_type": "code",
   "execution_count": 1,
   "metadata": {},
   "outputs": [],
   "source": [
    "import gym\n",
    "import Portfolio_Gym\n"
   ]
  },
  {
   "cell_type": "code",
   "execution_count": 2,
   "metadata": {},
   "outputs": [
    {
     "name": "stderr",
     "output_type": "stream",
     "text": [
      "/Library/Frameworks/Python.framework/Versions/3.6/lib/python3.6/site-packages/gym/envs/registration.py:14: PkgResourcesDeprecationWarning: Parameters to load are deprecated.  Call .resolve and .require separately.\n",
      "  result = entry_point.load(False)\n"
     ]
    },
    {
     "name": "stdout",
     "output_type": "stream",
     "text": [
      "Current Wealth: 0.6519, Tau: 1\n",
      "\n",
      "Current Wealth: 0.669, Tau: 0\n",
      "\n",
      "Current Wealth: 0.6348, Tau: 1\n",
      "\n",
      "Current Wealth: 0.2459, Tau: 0\n",
      "\n",
      "Current Wealth: 0.6706, Tau: 1\n",
      "\n",
      "Current Wealth: 1.0528, Tau: 0\n",
      "\n",
      "Current Wealth: 0.2572, Tau: 1\n",
      "\n",
      "Current Wealth: 0.1096, Tau: 0\n",
      "\n",
      "Current Wealth: 0.2802, Tau: 1\n",
      "\n",
      "Current Wealth: 0.8372, Tau: 0\n",
      "\n"
     ]
    }
   ],
   "source": [
    "# Demo the simulated enviornment\n",
    "Env = gym.make('Simulated-v0')\n",
    "\n",
    "for i in range(5):\n",
    "    Done = False\n",
    "    State = Env.reset()\n",
    "    Env.render()\n",
    "    while Done == False:\n",
    "        State, Reward, Done, Info = Env.step(Env.action_space.sample())\n",
    "    Env.render()\n",
    "#"
   ]
  },
  {
   "cell_type": "code",
   "execution_count": 12,
   "metadata": {},
   "outputs": [
    {
     "ename": "TypeError",
     "evalue": "make() got an unexpected keyword argument 'kwargs'",
     "output_type": "error",
     "traceback": [
      "\u001b[0;31m---------------------------------------------------------------------------\u001b[0m",
      "\u001b[0;31mTypeError\u001b[0m                                 Traceback (most recent call last)",
      "\u001b[0;32m<ipython-input-12-81e2dea441e8>\u001b[0m in \u001b[0;36m<module>\u001b[0;34m()\u001b[0m\n\u001b[1;32m      1\u001b[0m \u001b[0;31m## Demo the historical enviornment\u001b[0m\u001b[0;34m\u001b[0m\u001b[0;34m\u001b[0m\u001b[0m\n\u001b[0;32m----> 2\u001b[0;31m \u001b[0mEnv\u001b[0m \u001b[0;34m=\u001b[0m \u001b[0mgym\u001b[0m\u001b[0;34m.\u001b[0m\u001b[0mmake\u001b[0m\u001b[0;34m(\u001b[0m\u001b[0;34m'Historical-v0'\u001b[0m\u001b[0;34m,\u001b[0m \u001b[0mkwargs\u001b[0m \u001b[0;34m=\u001b[0m \u001b[0;34m{\u001b[0m\u001b[0;34m'Episode_Length'\u001b[0m \u001b[0;34m:\u001b[0m \u001b[0;36m2\u001b[0m\u001b[0;34m}\u001b[0m\u001b[0;34m)\u001b[0m\u001b[0;34m\u001b[0m\u001b[0m\n\u001b[0m\u001b[1;32m      3\u001b[0m \u001b[0;34m\u001b[0m\u001b[0m\n\u001b[1;32m      4\u001b[0m \u001b[0;32mfor\u001b[0m \u001b[0mi\u001b[0m \u001b[0;32min\u001b[0m \u001b[0mrange\u001b[0m\u001b[0;34m(\u001b[0m\u001b[0;36m5\u001b[0m\u001b[0;34m)\u001b[0m\u001b[0;34m:\u001b[0m\u001b[0;34m\u001b[0m\u001b[0m\n\u001b[1;32m      5\u001b[0m     \u001b[0mDone\u001b[0m  \u001b[0;34m=\u001b[0m \u001b[0;32mFalse\u001b[0m\u001b[0;34m\u001b[0m\u001b[0m\n",
      "\u001b[0;31mTypeError\u001b[0m: make() got an unexpected keyword argument 'kwargs'"
     ]
    }
   ],
   "source": [
    "## Demo the historical enviornment\n",
    "Env = gym.make('Historical-v0')\n",
    "Env.Set_Params(Time_Step = \"Monthly\")\n",
    "\n",
    "for i in range(5):\n",
    "    Done  = False\n",
    "    State = Env.reset()\n",
    "    while Done == False:\n",
    "        State, Reward, Done, Info = Env.step(Env.action_space.sample())\n",
    "    Env.render()\n",
    "\n"
   ]
  },
  {
   "cell_type": "code",
   "execution_count": null,
   "metadata": {},
   "outputs": [],
   "source": []
  }
 ],
 "metadata": {
  "kernelspec": {
   "display_name": "Python 3",
   "language": "python",
   "name": "python3"
  },
  "language_info": {
   "codemirror_mode": {
    "name": "ipython",
    "version": 3
   },
   "file_extension": ".py",
   "mimetype": "text/x-python",
   "name": "python",
   "nbconvert_exporter": "python",
   "pygments_lexer": "ipython3",
   "version": "3.6.2"
  }
 },
 "nbformat": 4,
 "nbformat_minor": 2
}
