{
 "cells": [
  {
   "cell_type": "code",
   "execution_count": 1,
   "metadata": {},
   "outputs": [],
   "source": [
    "import multiprocessing   as mp\n",
    "import numpy             as np\n",
    "\n",
    "import gym\n",
    "import Portfolio_Gym\n",
    "import A2C_VI_TF as A2C\n",
    "import Factors_Wrapper as Wrapper"
   ]
  },
  {
   "cell_type": "markdown",
   "metadata": {},
   "source": [
    "# Single Asset Merton Model"
   ]
  },
  {
   "cell_type": "code",
   "execution_count": null,
   "metadata": {},
   "outputs": [
    {
     "name": "stderr",
     "output_type": "stream",
     "text": [
      "/Library/Frameworks/Python.framework/Versions/3.6/lib/python3.6/site-packages/gym/envs/registration.py:14: PkgResourcesDeprecationWarning: Parameters to load are deprecated.  Call .resolve and .require separately.\n",
      "  result = entry_point.load(False)\n",
      "/Library/Frameworks/Python.framework/Versions/3.6/lib/python3.6/site-packages/gym/envs/registration.py:14: PkgResourcesDeprecationWarning: Parameters to load are deprecated.  Call .resolve and .require separately.\n",
      "  result = entry_point.load(False)\n",
      "/Library/Frameworks/Python.framework/Versions/3.6/lib/python3.6/site-packages/gym/envs/registration.py:14: PkgResourcesDeprecationWarning: Parameters to load are deprecated.  Call .resolve and .require separately.\n",
      "  result = entry_point.load(False)\n",
      "  0%|          | 0/50000 [00:00<?, ?it/s]/Users/jakefowler/Documents/GitHub/rl-portfolio/Gym Environments/Portfolio_Management/Portfolio_Gym/envs/Simulated.py:219: RuntimeWarning: covariance is not symmetric positive-semidefinite.\n",
      "  self._Factor_Model_Returns = np.random.multivariate_normal(Mu_, self.Asset_Factor_Cov)\n",
      "  0%|          | 0/50000 [00:00<?, ?it/s]/Users/jakefowler/Documents/GitHub/rl-portfolio/Gym Environments/Portfolio_Management/Portfolio_Gym/envs/Simulated.py:219: RuntimeWarning: covariance is not symmetric positive-semidefinite.\n",
      "  self._Factor_Model_Returns = np.random.multivariate_normal(Mu_, self.Asset_Factor_Cov)\n",
      "  0%|          | 0/50000 [00:00<?, ?it/s]/Users/jakefowler/Documents/GitHub/rl-portfolio/Gym Environments/Portfolio_Management/Portfolio_Gym/envs/Simulated.py:219: RuntimeWarning: covariance is not symmetric positive-semidefinite.\n",
      "  self._Factor_Model_Returns = np.random.multivariate_normal(Mu_, self.Asset_Factor_Cov)\n",
      " 34%|███▍      | 16991/50000 [03:41<05:50, 94.30it/s] "
     ]
    }
   ],
   "source": [
    "# Model Parameters.\n",
    "Gamma  = 0.999\n",
    "N_Eps  = int(5e4)\n",
    "\n",
    "Network_Hypers   = {\"Learning_Rate\" : 0.075,\n",
    "                    \"Epoch\"         : 3,\n",
    "                    \"Network_Size\"  : [8,8],\n",
    "                    \"Activation\"    : \"Sigmoid\",\n",
    "                    \"Solver\"        : \"ADAM\",\n",
    "                    \"Actor_Alpha\"   : 0.01,\n",
    "                    \"Critic_Alpha\"  : 0.01,\n",
    "                    \"Batch_Size\"    : 0}\n",
    "\n",
    "\n",
    "# Function to facilitate mulitprocessing.\n",
    "def Run(seed):\n",
    "    np.random.seed(seed)\n",
    "    Merton_Env = gym.make('Simulated-v0')\n",
    "    Merton_Env.Set_Params(Mu = 0.06, Sigma = 0.35, Row = 1, Rf = 0.01,\n",
    "                          Max_Leverage  = 750,\n",
    "                          Min_Leverage  = -750,\n",
    "                          Time_Horizon  = 1,\n",
    "                          Time_Step     = 1/12,\n",
    "                          Risk_Aversion = 0.9,\n",
    "                          State_Corrolations = [0.5, 1.0])\n",
    " \n",
    "    myAC = A2C.Actor_Critic(Merton_Env, Network_Hypers, Gamma = Gamma, \n",
    "                            Sigma_Range = [2, 0.05], Sigma_Anneal = 500, \n",
    "                            Predict_Sigma = False, Retrain_Frequency = 100)\n",
    "    \n",
    "    myWrapper = Wrapper.Factors_Wrapper(myAC)\n",
    "    myWrapper.Train(N_Eps, Plot = ['Mu', 'R_Squared', 'Merton_Benchmark', 'Percent_Merton_Action'])\n",
    "\n",
    "\n",
    "# Run the investigation...\n",
    "with mp.Pool(mp.cpu_count()) as pool:\n",
    "    _ = pool.map(Run, np.random.randint(0, int(1e9), 3))\n"
   ]
  },
  {
   "cell_type": "code",
   "execution_count": null,
   "metadata": {},
   "outputs": [],
   "source": []
  },
  {
   "cell_type": "markdown",
   "metadata": {},
   "source": []
  },
  {
   "cell_type": "code",
   "execution_count": null,
   "metadata": {},
   "outputs": [],
   "source": []
  },
  {
   "cell_type": "code",
   "execution_count": null,
   "metadata": {},
   "outputs": [],
   "source": []
  },
  {
   "cell_type": "code",
   "execution_count": null,
   "metadata": {},
   "outputs": [],
   "source": []
  },
  {
   "cell_type": "code",
   "execution_count": null,
   "metadata": {},
   "outputs": [],
   "source": []
  },
  {
   "cell_type": "code",
   "execution_count": null,
   "metadata": {},
   "outputs": [],
   "source": []
  }
 ],
 "metadata": {
  "kernelspec": {
   "display_name": "Python 3",
   "language": "python",
   "name": "python3"
  },
  "language_info": {
   "codemirror_mode": {
    "name": "ipython",
    "version": 3
   },
   "file_extension": ".py",
   "mimetype": "text/x-python",
   "name": "python",
   "nbconvert_exporter": "python",
   "pygments_lexer": "ipython3",
   "version": "3.6.2"
  }
 },
 "nbformat": 4,
 "nbformat_minor": 2
}
