{
 "cells": [
  {
   "cell_type": "code",
   "execution_count": 1,
   "metadata": {},
   "outputs": [],
   "source": [
    "import multiprocessing   as mp\n",
    "import numpy             as np\n",
    "\n",
    "import gym\n",
    "import Portfolio_Gym\n",
    "import A2C_V as A2C\n",
    "import Factors_Wrapper as Wrapper"
   ]
  },
  {
   "cell_type": "code",
   "execution_count": null,
   "metadata": {},
   "outputs": [
    {
     "name": "stderr",
     "output_type": "stream",
     "text": [
      "/Library/Frameworks/Python.framework/Versions/3.6/lib/python3.6/site-packages/gym/envs/registration.py:14: PkgResourcesDeprecationWarning: Parameters to load are deprecated.  Call .resolve and .require separately.\n",
      "  result = entry_point.load(False)\n",
      "/Library/Frameworks/Python.framework/Versions/3.6/lib/python3.6/site-packages/gym/envs/registration.py:14: PkgResourcesDeprecationWarning: Parameters to load are deprecated.  Call .resolve and .require separately.\n",
      "  result = entry_point.load(False)\n",
      "/Library/Frameworks/Python.framework/Versions/3.6/lib/python3.6/site-packages/gym/envs/registration.py:14: PkgResourcesDeprecationWarning: Parameters to load are deprecated.  Call .resolve and .require separately.\n",
      "  result = entry_point.load(False)\n",
      " 54%|█████▍    | 5379/10000 [00:23<00:18, 250.62it/s]"
     ]
    }
   ],
   "source": [
    "N_Eps  = int(1e4)\n",
    "\n",
    "Actor_Hypers   = {\"Learning Rate\" : 0.075,\n",
    "                  \"Epoch\"         : 3,\n",
    "                  \"Network Size\"  : [8,8],\n",
    "                  \"Activation\"    : \"Sigmoid\",\n",
    "                  \"Alpha\"         : 0.0,\n",
    "                  \"Batch Size\"    : 0}\n",
    "\n",
    "Critic_Hypers = {\"Learning Rate\" : 0.075,\n",
    "                 \"Epoch\"         : 3,\n",
    "                 \"Network Size\"  : [8,8],\n",
    "                 \"Activation\"    : \"Sigmoid\",\n",
    "                 \"Alpha\"         : 0.0,\n",
    "                 \"Batch Size\"    : 0}\n",
    "\n",
    "\n",
    "# Function to facilitate mulitprocessing.\n",
    "def Run(seed):\n",
    "    np.random.seed(seed)\n",
    "    Env = gym.make('Historical_Monthly-v0')\n",
    "    Env.Set_Params(Risk_Aversion = 1.5,   Episode_Length = 12,   Max_Leverage  = 750,\n",
    "                   Min_Leverage = -750, Intermediate_Reward = True)\n",
    " \n",
    "    myAC = A2C.Actor_Critic(Env, Actor_Hypers, Critic_Hypers, \n",
    "                            Gamma = 0.999,    Sigma_Range = [2, 0.05],\n",
    "                            Sigma_Anneal = 1, Retrain_Frequency = 100)\n",
    "    \n",
    "    myWrapper = Wrapper.Factors_Wrapper(myAC)\n",
    "    myWrapper.Train(N_Eps, Plot = ['Mu', 'R_Squared', 'Merton_Benchmark', \n",
    "                                   'Percent_Merton_Action'])\n",
    "\n",
    "\n",
    "# Run the investigation...\n",
    "with mp.Pool(mp.cpu_count()) as pool:\n",
    "    _ = pool.map(Run, np.random.randint(0, int(1e9), 3))\n",
    "\n"
   ]
  },
  {
   "cell_type": "code",
   "execution_count": null,
   "metadata": {
    "scrolled": false
   },
   "outputs": [],
   "source": []
  },
  {
   "cell_type": "code",
   "execution_count": null,
   "metadata": {},
   "outputs": [],
   "source": []
  },
  {
   "cell_type": "code",
   "execution_count": null,
   "metadata": {},
   "outputs": [],
   "source": []
  }
 ],
 "metadata": {
  "kernelspec": {
   "display_name": "Python 3",
   "language": "python",
   "name": "python3"
  },
  "language_info": {
   "codemirror_mode": {
    "name": "ipython",
    "version": 3
   },
   "file_extension": ".py",
   "mimetype": "text/x-python",
   "name": "python",
   "nbconvert_exporter": "python",
   "pygments_lexer": "ipython3",
   "version": "3.6.2"
  }
 },
 "nbformat": 4,
 "nbformat_minor": 2
}
