{
 "cells": [
  {
   "cell_type": "code",
   "execution_count": 1,
   "metadata": {},
   "outputs": [],
   "source": [
    "import matplotlib.pyplot as plt\n",
    "import multiprocessing   as mp\n",
    "\n",
    "import gym\n",
    "import Portfolio_Gym\n",
    "from A2C_tf import Actor_Critic"
   ]
  },
  {
   "cell_type": "code",
   "execution_count": 3,
   "metadata": {},
   "outputs": [
    {
     "name": "stderr",
     "output_type": "stream",
     "text": [
      "C:\\Users\\Hli\\Anaconda3\\lib\\site-packages\\gym\\envs\\registration.py:14: PkgResourcesDeprecationWarning: Parameters to load are deprecated.  Call .resolve and .require separately.\n",
      "  result = entry_point.load(False)\n"
     ]
    }
   ],
   "source": [
    "# def Run (A):\n",
    "    # Model Parameters.\n",
    "# np.random.seed(A)\n",
    "Retrain_Frequency = 16\n",
    "Sigma_Range       = [2, 0.05]\n",
    "Sigma_Anneal      = 1\n",
    "\n",
    "Gamma  = 0.999\n",
    "\n",
    "\n",
    "AC_Hypers   = {\"Learning Rate\" : 0.001,\n",
    "              \"Epoch\"         : 20,\n",
    "              \"Network Size\"  : [32, 16],\n",
    "              \"Activation\"    : \"Sigmoid\",\n",
    "              \"solver\"        : 'Adam',\n",
    "              \"Alpha_A\"       : 0.05,\n",
    "              \"Alpha_V\"       : 0.5}\n",
    "\n",
    "\n",
    "Env = gym.make('Historical_Monthly-v0')\n",
    "Env.Set_Params(Risk_Aversion = 1,   Episode_Length = 12,   Max_Leverage  = 750,\n",
    "               Min_Leverage = -750, Validation_Frac = 0.3, Intermediate_Reward = True)\n",
    "\n",
    "#     myAC = A2C.Actor_Critic(Env, Actor_Hypers, Critic_Hypers, Gamma, Sigma_Range,\n",
    "#                             Sigma_Anneal, Retrain_Frequency)\n",
    "#     myAC.Plot_Frequency = 0  # Dissables plotting (Since this only supports sim env.)\n",
    "\n",
    "#     myAC.Train(10000)\n",
    "#     Results = Env.Validate(100, myAC)\n",
    "\n",
    "#     f, ax = plt.subplots(1,1, figsize = (10,10))\n",
    "#     ax.scatter(np.arange(len(Results[0])), Results[0], label = 'DQN', color = 'lightskyblue')\n",
    "#     ax.scatter(np.arange(len(Results[1])), Results[1], label = 'RFree', color = 'mediumvioletred')\n",
    "#     ax.scatter(np.arange(len(Results[2])), Results[2], label = 'Merton', color = 'darkblue')\n",
    "    \n",
    "#     ax.set_title(str(A))\n",
    "#     ax.set_ylabel(\"Utility\")\n",
    "#     ax.set_xlabel(\"Validation Ep.\")\n",
    "#     ax.legend()\n",
    "#     plt.show()\n",
    "\n",
    "#     print(\"\")\n",
    "#     print(str(A) + \"      DQN Mean: \" +  str(round(np.mean(Results[0]), 4)) + \", Std: \" + str(round(np.std(Results[0]), 4))) \n",
    "#     print(str(A) + \"Risk Free Mean: \" +  str(round(np.mean(Results[1]), 4)) + \", Std: \" + str(round(np.std(Results[1]), 4)))\n",
    "#     print(str(A) + \"   Merton Mean: \" +  str(round(np.mean(Results[2]), 4)) + \", Std: \" + str(round(np.std(Results[2]), 4)))\n",
    "#     print(\"\")\n",
    "\n",
    "\n"
   ]
  },
  {
   "cell_type": "code",
   "execution_count": 18,
   "metadata": {
    "scrolled": true
   },
   "outputs": [
    {
     "data": {
      "text/plain": [
       "(array([ 6.09849134e-01,  9.16666667e-01,  1.97504000e+05,  8.73000000e+01,\n",
       "         3.68330000e+00,  8.28670000e+00,  9.09489371e-01,  5.61000000e-02,\n",
       "         8.95000000e-02,  1.05800000e-01,  8.52000000e-02,  2.24964870e-02,\n",
       "         4.67500000e-03,  3.79506600e-03, -1.82000000e-02, -5.20000000e-03,\n",
       "         2.31372700e-03, -6.73488000e-04,  4.94240000e-02,  4.72930000e-02,\n",
       "         4.25898752e-02]),\n",
       " 0.02146187256434795,\n",
       " False,\n",
       " {'Mkt-Rf': 0.04258987523992318, 'Rfree': 0.004675})"
      ]
     },
     "execution_count": 18,
     "metadata": {},
     "output_type": "execute_result"
    }
   ],
   "source": [
    "import numpy as np\n",
    "Env.step(np.array([1]))"
   ]
  },
  {
   "cell_type": "code",
   "execution_count": null,
   "metadata": {},
   "outputs": [],
   "source": []
  },
  {
   "cell_type": "code",
   "execution_count": null,
   "metadata": {},
   "outputs": [],
   "source": []
  },
  {
   "cell_type": "code",
   "execution_count": null,
   "metadata": {},
   "outputs": [],
   "source": []
  },
  {
   "cell_type": "code",
   "execution_count": null,
   "metadata": {
    "scrolled": true
   },
   "outputs": [],
   "source": [
    "# with mp.Pool(mp.cpu_count()) as pool:\n",
    "#     _ = pool.map(Run, np.random.randint(0, int(1e9), 3))"
   ]
  },
  {
   "cell_type": "code",
   "execution_count": null,
   "metadata": {},
   "outputs": [],
   "source": []
  },
  {
   "cell_type": "code",
   "execution_count": null,
   "metadata": {},
   "outputs": [],
   "source": []
  }
 ],
 "metadata": {
  "kernelspec": {
   "display_name": "Python 3",
   "language": "python",
   "name": "python3"
  },
  "language_info": {
   "codemirror_mode": {
    "name": "ipython",
    "version": 3
   },
   "file_extension": ".py",
   "mimetype": "text/x-python",
   "name": "python",
   "nbconvert_exporter": "python",
   "pygments_lexer": "ipython3",
   "version": "3.7.3"
  }
 },
 "nbformat": 4,
 "nbformat_minor": 2
}
