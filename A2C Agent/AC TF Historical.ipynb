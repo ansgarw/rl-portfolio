{
 "cells": [
  {
   "cell_type": "code",
   "execution_count": 2,
   "metadata": {},
   "outputs": [],
   "source": [
    "import matplotlib.pyplot as plt\n",
    "import multiprocessing   as mp\n",
    "import numpy as np\n",
    "import gym\n",
    "import Portfolio_Gym\n",
    "from A2C_tf import Actor_Critic"
   ]
  },
  {
   "cell_type": "code",
   "execution_count": 3,
   "metadata": {},
   "outputs": [
    {
     "name": "stderr",
     "output_type": "stream",
     "text": [
      "C:\\Users\\Hli\\Anaconda3\\lib\\site-packages\\gym\\envs\\registration.py:14: PkgResourcesDeprecationWarning: Parameters to load are deprecated.  Call .resolve and .require separately.\n",
      "  result = entry_point.load(False)\n"
     ]
    }
   ],
   "source": [
    "Retrain_Frequency = 100\n",
    "Sigma_Range       = [2, 0.05]\n",
    "Sigma_Anneal      = 1\n",
    "\n",
    "Gamma  = 1\n",
    "\n",
    "AC_Hypers   = {\"Learning Rate\" : 0.001,\n",
    "              \"Epoch\"         : 20,\n",
    "              \"Network Size\"  : [32, 16],\n",
    "              \"Activation\"    : \"Sigmoid\",\n",
    "              \"solver\"        : 'Adam',\n",
    "              \"Alpha_A\"       : 0.01,\n",
    "              \"Alpha_V\"       : 0.01}\n",
    "\n",
    "\n",
    "Env = gym.make('Historical_Monthly-v1')\n",
    "Env.Set_Params(Risk_Aversion = 1.2,   Episode_Length = 60,   Max_Leverage  = 750,\n",
    "               Min_Leverage = -750, Validation_Frac = 0.3, Intermediate_Reward = False)\n",
    "\n",
    "myAC = Actor_Critic(Env, AC_Hypers, Gamma, Sigma_Range, Sigma_Anneal, Retrain_Frequency)"
   ]
  },
  {
   "cell_type": "code",
   "execution_count": null,
   "metadata": {
    "scrolled": false
   },
   "outputs": [],
   "source": [
    "Another = 200\n",
    "Model_Scores, Merton_Scores = myAC.Train(Another)\n",
    "f, ax = plt.subplots(1,1, figsize = (10,10))\n",
    "ax.scatter(np.arange(len(Model_Scores)), Model_Scores, label = 'Model', color = 'lightskyblue')\n",
    "ax.scatter(np.arange(len(Model_Scores)), Merton_Scores, label = 'Merton', color = 'mediumvioletred')\n",
    "ax.set_title('Model vs Merton')\n",
    "ax.set_ylabel(\"Utility\")\n",
    "ax.set_xlabel(\"Training Ep.\")\n",
    "ax.legend()\n",
    "plt.show()"
   ]
  },
  {
   "cell_type": "code",
   "execution_count": null,
   "metadata": {},
   "outputs": [],
   "source": [
    "plt.plot([Model_Scores[i]/Merton_Scores[i] - 1 for i in range(len(Model_Scores))])"
   ]
  },
  {
   "cell_type": "code",
   "execution_count": null,
   "metadata": {},
   "outputs": [],
   "source": [
    "Results = Env.Validate(100, myAC)\n",
    "\n",
    "f, ax = plt.subplots(1,1, figsize = (10,10))\n",
    "ax.scatter(np.arange(len(Results[0])), Results[0], label = 'A2C', color = 'lightskyblue')\n",
    "ax.scatter(np.arange(len(Results[1])), Results[1], label = 'RFree', color = 'mediumvioletred')\n",
    "ax.scatter(np.arange(len(Results[2])), Results[2], label = 'Merton', color = 'darkblue')\n",
    "\n",
    "ax.set_title('Validation set performance')\n",
    "ax.set_ylabel(\"Utility\")\n",
    "ax.set_xlabel(\"Validation Ep.\")\n",
    "ax.legend()\n",
    "plt.show()\n"
   ]
  },
  {
   "cell_type": "code",
   "execution_count": null,
   "metadata": {
    "scrolled": true
   },
   "outputs": [],
   "source": []
  },
  {
   "cell_type": "code",
   "execution_count": null,
   "metadata": {
    "scrolled": true
   },
   "outputs": [],
   "source": [
    "Retrain_Frequency = 100\n",
    "Sigma_Range       = [2, 0.05]\n",
    "Sigma_Anneal      = 1\n",
    "\n",
    "Gamma  = 1\n",
    "\n",
    "AC_Hypers   = {\"Learning Rate\" : 0.001,\n",
    "              \"Epoch\"         : 20,\n",
    "              \"Network Size\"  : [32, 16],\n",
    "              \"Activation\"    : \"Sigmoid\",\n",
    "              \"solver\"        : 'Adam',\n",
    "              \"Alpha_A\"       : 0.01,\n",
    "              \"Alpha_V\"       : 0.01}\n",
    "\n",
    "\n",
    "Env_V0 = gym.make('Historical_Monthly-v0')\n",
    "Env_V0.Set_Params(Risk_Aversion = 1.2,   Episode_Length = 60,   Max_Leverage  = 750,\n",
    "               Min_Leverage = -750, Validation_Frac = 0.3, Intermediate_Reward = False)\n",
    "\n",
    "myAC_daily = Actor_Critic(Env_Daily, AC_Hypers, Gamma, Sigma_Range, Sigma_Anneal, Retrain_Frequency)"
   ]
  },
  {
   "cell_type": "code",
   "execution_count": null,
   "metadata": {},
   "outputs": [],
   "source": [
    "Another = 200\n",
    "Model_Scores, Merton_Scores = myAC_daily.Train(Another)\n",
    "f, ax = plt.subplots(1,1, figsize = (10,10))\n",
    "ax.scatter(np.arange(len(Model_Scores)), Model_Scores, label = 'Model', color = 'lightskyblue')\n",
    "ax.scatter(np.arange(len(Model_Scores)), Merton_Scores, label = 'Merton', color = 'mediumvioletred')\n",
    "ax.set_title('Model vs Merton')\n",
    "ax.set_ylabel(\"Utility\")\n",
    "ax.set_xlabel(\"Training Ep.\")\n",
    "ax.legend()\n",
    "plt.show()"
   ]
  },
  {
   "cell_type": "code",
   "execution_count": null,
   "metadata": {},
   "outputs": [],
   "source": [
    "plt.plot([Model_Scores[i]/Merton_Scores[i] -1 for i in range(len(Model_Scores))])"
   ]
  },
  {
   "cell_type": "code",
   "execution_count": null,
   "metadata": {},
   "outputs": [],
   "source": [
    "Results = Env_Daily.Validate(100, myAC_daily)\n",
    "\n",
    "f, ax = plt.subplots(1,1, figsize = (10,10))\n",
    "ax.scatter(np.arange(len(Results[0])), Results[0], label = 'A2C', color = 'lightskyblue')\n",
    "ax.scatter(np.arange(len(Results[1])), Results[1], label = 'RFree', color = 'mediumvioletred')\n",
    "ax.scatter(np.arange(len(Results[2])), Results[2], label = 'Merton', color = 'darkblue')\n",
    "\n",
    "ax.set_title('Validation set performance')\n",
    "ax.set_ylabel(\"Utility\")\n",
    "ax.set_xlabel(\"Validation Ep.\")\n",
    "ax.legend()\n",
    "plt.show()\n"
   ]
  },
  {
   "cell_type": "code",
   "execution_count": null,
   "metadata": {},
   "outputs": [],
   "source": []
  },
  {
   "cell_type": "code",
   "execution_count": null,
   "metadata": {},
   "outputs": [],
   "source": []
  }
 ],
 "metadata": {
  "kernelspec": {
   "display_name": "Python 3",
   "language": "python",
   "name": "python3"
  },
  "language_info": {
   "codemirror_mode": {
    "name": "ipython",
    "version": 3
   },
   "file_extension": ".py",
   "mimetype": "text/x-python",
   "name": "python",
   "nbconvert_exporter": "python",
   "pygments_lexer": "ipython3",
   "version": "3.7.3"
  }
 },
 "nbformat": 4,
 "nbformat_minor": 2
}
