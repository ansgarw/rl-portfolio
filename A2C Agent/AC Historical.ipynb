{
 "cells": [
  {
   "cell_type": "code",
   "execution_count": 1,
   "metadata": {},
   "outputs": [],
   "source": [
    "import matplotlib.pyplot as plt\n",
    "import numpy             as np\n",
    "\n",
    "import gym\n",
    "import Portfolio_Gym\n",
    "import A2C_III as A2C"
   ]
  },
  {
   "cell_type": "code",
   "execution_count": 2,
   "metadata": {},
   "outputs": [
    {
     "name": "stderr",
     "output_type": "stream",
     "text": [
      "/Library/Frameworks/Python.framework/Versions/3.6/lib/python3.6/site-packages/gym/envs/registration.py:14: PkgResourcesDeprecationWarning: Parameters to load are deprecated.  Call .resolve and .require separately.\n",
      "  result = entry_point.load(False)\n",
      "/Users/jakefowler/Documents/GitHub/rl-portfolio/A2C Agent/A2C_III.py:126: RuntimeWarning: overflow encountered in exp\n",
      "  return 1.0 / (1.0 + np.exp(-X))\n",
      "/Users/jakefowler/Documents/GitHub/rl-portfolio/A2C Agent/A2C_III.py:31: RuntimeWarning: overflow encountered in exp\n",
      "  return 1.0 / (1.0 + np.exp(-X))\n"
     ]
    },
    {
     "name": "stdout",
     "output_type": "stream",
     "text": [
      "CPU times: user 3min 36s, sys: 2.98 s, total: 3min 39s\n",
      "Wall time: 3min 40s\n"
     ]
    },
    {
     "data": {
      "image/png": "[encoded data removed]",
      "text/plain": [
       "<Figure size 720x720 with 1 Axes>"
      ]
     },
     "metadata": {
      "needs_background": "light"
     },
     "output_type": "display_data"
    }
   ],
   "source": [
    "%%time\n",
    "\n",
    "# Model Parameters.\n",
    "Retrain_Frequency = 10\n",
    "Sigma_Range       = [2, 0.05]\n",
    "Sigma_Anneal      = 1\n",
    "\n",
    "Gamma  = 0.999\n",
    "N_Eps  = int(1e4)\n",
    "\n",
    "Actor_Hypers   = {\"Learning Rate\" : 0.075,\n",
    "                  \"Epoch\"         : 1,\n",
    "                  \"Network Size\"  : [4,4],\n",
    "                  \"Activation\"    : \"Sigmoid\",\n",
    "                  \"Alpha\"         : 0.10}\n",
    "\n",
    "Critic_Hypers = {\"Learning Rate\" : 0.05,\n",
    "                 \"Epoch\"         : 10,\n",
    "                 \"Network Size\"  : [4,4],\n",
    "                 \"Activation\"    : \"Sigmoid\",\n",
    "                 \"Alpha\"         : 0.001}\n",
    "\n",
    "Env = gym.make('Historical_Monthly-v0')\n",
    "Env.Set_Params(Risk_Aversion = 1,  Episode_Length = 12,  Max_Leverage  = 750,\n",
    "               Min_Leverage = -750,  Validation_Frac = 0.3)\n",
    "\n",
    "myAC = A2C.Actor_Critic(Env, Actor_Hypers, Critic_Hypers, Gamma, Sigma_Range,\n",
    "                        Sigma_Anneal, Retrain_Frequency)\n",
    "myAC.Plot_Frequency = 0  # Dissables plotting (Since this only supports sim env.)\n",
    "\n",
    "myAC.Train(N_Eps)\n",
    "Results = myAC.Validate(100)\n",
    "\n",
    "f, ax = plt.subplots(1,1, figsize = (10,10))\n",
    "ax.scatter(np.arange(len(Results)), Results)\n",
    "ax.set_ylabel(\"Utility\")\n",
    "ax.set_xlabel(\"Validation Ep.\")\n"
   ]
  },
  {
   "cell_type": "code",
   "execution_count": null,
   "metadata": {},
   "outputs": [],
   "source": []
  }
 ],
 "metadata": {
  "kernelspec": {
   "display_name": "Python 3",
   "language": "python",
   "name": "python3"
  },
  "language_info": {
   "codemirror_mode": {
    "name": "ipython",
    "version": 3
   },
   "file_extension": ".py",
   "mimetype": "text/x-python",
   "name": "python",
   "nbconvert_exporter": "python",
   "pygments_lexer": "ipython3",
   "version": "3.6.2"
  }
 },
 "nbformat": 4,
 "nbformat_minor": 2
}
